{
  "nbformat": 4,
  "nbformat_minor": 0,
  "metadata": {
    "colab": {
      "name": "Random-Forest-Regression-Importance-Calculation.ipynb",
      "provenance": [],
      "collapsed_sections": []
    },
    "kernelspec": {
      "name": "python3",
      "display_name": "Python 3"
    }
  },
  "cells": [
    {
      "cell_type": "code",
      "metadata": {
        "id": "ZvdCaf3mcgTr"
      },
      "source": [
        "import numpy as np\n",
        "import pandas as pd\n",
        "import matplotlib.pyplot as plt\n",
        "import seaborn as sns"
      ],
      "execution_count": null,
      "outputs": []
    },
    {
      "cell_type": "code",
      "metadata": {
        "colab": {
          "base_uri": "https://localhost:8080/",
          "height": 224
        },
        "id": "AcpeSg4gcrkl",
        "outputId": "2d752ec7-0ba4-4b61-f79d-9758ed06424e"
      },
      "source": [
        "path = 'drive/MyDrive/Research/data_collection/final_cleaned/final_dataset.csv'\n",
        "df = pd.read_csv(path)\n",
        "df.head()"
      ],
      "execution_count": null,
      "outputs": [
        {
          "output_type": "execute_result",
          "data": {
            "text/html": [
              "<div>\n",
              "<style scoped>\n",
              "    .dataframe tbody tr th:only-of-type {\n",
              "        vertical-align: middle;\n",
              "    }\n",
              "\n",
              "    .dataframe tbody tr th {\n",
              "        vertical-align: top;\n",
              "    }\n",
              "\n",
              "    .dataframe thead th {\n",
              "        text-align: right;\n",
              "    }\n",
              "</style>\n",
              "<table border=\"1\" class=\"dataframe\">\n",
              "  <thead>\n",
              "    <tr style=\"text-align: right;\">\n",
              "      <th></th>\n",
              "      <th>fcp</th>\n",
              "      <th>interactive</th>\n",
              "      <th>srt</th>\n",
              "      <th>dom_size</th>\n",
              "      <th>but</th>\n",
              "      <th>fmp</th>\n",
              "      <th>tbt</th>\n",
              "      <th>tbw</th>\n",
              "      <th>fci</th>\n",
              "      <th>cls</th>\n",
              "      <th>lcp</th>\n",
              "      <th>ux_index</th>\n",
              "      <th>fid_category</th>\n",
              "      <th>lcp_category</th>\n",
              "      <th>fcp_category</th>\n",
              "      <th>cls_category</th>\n",
              "    </tr>\n",
              "  </thead>\n",
              "  <tbody>\n",
              "    <tr>\n",
              "      <th>0</th>\n",
              "      <td>810.0</td>\n",
              "      <td>1623.000353</td>\n",
              "      <td>148.574</td>\n",
              "      <td>222</td>\n",
              "      <td>95.844</td>\n",
              "      <td>810.0</td>\n",
              "      <td>1.0</td>\n",
              "      <td>964194</td>\n",
              "      <td>1582.0</td>\n",
              "      <td>0.000000</td>\n",
              "      <td>890.0</td>\n",
              "      <td>810.000000</td>\n",
              "      <td>1</td>\n",
              "      <td>1</td>\n",
              "      <td>2</td>\n",
              "      <td>1</td>\n",
              "    </tr>\n",
              "    <tr>\n",
              "      <th>1</th>\n",
              "      <td>791.0</td>\n",
              "      <td>1938.500000</td>\n",
              "      <td>34.172</td>\n",
              "      <td>1049</td>\n",
              "      <td>574.117</td>\n",
              "      <td>1028.5</td>\n",
              "      <td>134.0</td>\n",
              "      <td>2463660</td>\n",
              "      <td>1604.0</td>\n",
              "      <td>0.000000</td>\n",
              "      <td>1623.0</td>\n",
              "      <td>1313.142001</td>\n",
              "      <td>1</td>\n",
              "      <td>1</td>\n",
              "      <td>2</td>\n",
              "      <td>1</td>\n",
              "    </tr>\n",
              "    <tr>\n",
              "      <th>2</th>\n",
              "      <td>660.0</td>\n",
              "      <td>1141.000000</td>\n",
              "      <td>309.005</td>\n",
              "      <td>1814</td>\n",
              "      <td>217.650</td>\n",
              "      <td>813.0</td>\n",
              "      <td>68.0</td>\n",
              "      <td>571401</td>\n",
              "      <td>1006.0</td>\n",
              "      <td>0.000800</td>\n",
              "      <td>1440.0</td>\n",
              "      <td>999.346206</td>\n",
              "      <td>1</td>\n",
              "      <td>1</td>\n",
              "      <td>2</td>\n",
              "      <td>1</td>\n",
              "    </tr>\n",
              "    <tr>\n",
              "      <th>3</th>\n",
              "      <td>655.0</td>\n",
              "      <td>3584.500000</td>\n",
              "      <td>348.280</td>\n",
              "      <td>1413</td>\n",
              "      <td>1686.482</td>\n",
              "      <td>726.0</td>\n",
              "      <td>484.0</td>\n",
              "      <td>1628682</td>\n",
              "      <td>3204.0</td>\n",
              "      <td>0.028540</td>\n",
              "      <td>820.0</td>\n",
              "      <td>1023.158693</td>\n",
              "      <td>1</td>\n",
              "      <td>2</td>\n",
              "      <td>2</td>\n",
              "      <td>1</td>\n",
              "    </tr>\n",
              "    <tr>\n",
              "      <th>4</th>\n",
              "      <td>770.0</td>\n",
              "      <td>3351.000000</td>\n",
              "      <td>775.957</td>\n",
              "      <td>1156</td>\n",
              "      <td>1554.168</td>\n",
              "      <td>770.0</td>\n",
              "      <td>537.0</td>\n",
              "      <td>1737243</td>\n",
              "      <td>3071.0</td>\n",
              "      <td>0.033484</td>\n",
              "      <td>2881.0</td>\n",
              "      <td>1869.895174</td>\n",
              "      <td>1</td>\n",
              "      <td>2</td>\n",
              "      <td>2</td>\n",
              "      <td>2</td>\n",
              "    </tr>\n",
              "  </tbody>\n",
              "</table>\n",
              "</div>"
            ],
            "text/plain": [
              "     fcp  interactive      srt  ...  lcp_category  fcp_category  cls_category\n",
              "0  810.0  1623.000353  148.574  ...             1             2             1\n",
              "1  791.0  1938.500000   34.172  ...             1             2             1\n",
              "2  660.0  1141.000000  309.005  ...             1             2             1\n",
              "3  655.0  3584.500000  348.280  ...             2             2             1\n",
              "4  770.0  3351.000000  775.957  ...             2             2             2\n",
              "\n",
              "[5 rows x 16 columns]"
            ]
          },
          "metadata": {
            "tags": []
          },
          "execution_count": 2
        }
      ]
    },
    {
      "cell_type": "code",
      "metadata": {
        "id": "RlnocBVLcvQP"
      },
      "source": [
        "# Computing IQR\n",
        "Q1 = df['ux_index'].quantile(0.25)\n",
        "Q3 = df['ux_index'].quantile(0.75)\n",
        "IQR = Q3 - Q1\n",
        "\n",
        "# Filtering Values between Q1-1.5IQR and Q3+1.5IQR\n",
        "df = df.query('(@Q1 - 1.5 * @IQR) <= ux_index <= (@Q3 + 1.5 * @IQR)')"
      ],
      "execution_count": null,
      "outputs": []
    },
    {
      "cell_type": "code",
      "metadata": {
        "colab": {
          "base_uri": "https://localhost:8080/",
          "height": 204
        },
        "id": "V47umLE2cwJF",
        "outputId": "d3e69ca6-df63-4a55-9fc1-d974abba50f2"
      },
      "source": [
        "df = df.drop(columns=['cls', 'dom_size', 'fid_category', 'lcp_category', 'fcp_category', 'cls_category'], axis = 1)\n",
        "df.head()"
      ],
      "execution_count": null,
      "outputs": [
        {
          "output_type": "execute_result",
          "data": {
            "text/html": [
              "<div>\n",
              "<style scoped>\n",
              "    .dataframe tbody tr th:only-of-type {\n",
              "        vertical-align: middle;\n",
              "    }\n",
              "\n",
              "    .dataframe tbody tr th {\n",
              "        vertical-align: top;\n",
              "    }\n",
              "\n",
              "    .dataframe thead th {\n",
              "        text-align: right;\n",
              "    }\n",
              "</style>\n",
              "<table border=\"1\" class=\"dataframe\">\n",
              "  <thead>\n",
              "    <tr style=\"text-align: right;\">\n",
              "      <th></th>\n",
              "      <th>fcp</th>\n",
              "      <th>interactive</th>\n",
              "      <th>srt</th>\n",
              "      <th>but</th>\n",
              "      <th>fmp</th>\n",
              "      <th>tbt</th>\n",
              "      <th>tbw</th>\n",
              "      <th>fci</th>\n",
              "      <th>lcp</th>\n",
              "      <th>ux_index</th>\n",
              "    </tr>\n",
              "  </thead>\n",
              "  <tbody>\n",
              "    <tr>\n",
              "      <th>0</th>\n",
              "      <td>810.0</td>\n",
              "      <td>1623.000353</td>\n",
              "      <td>148.574</td>\n",
              "      <td>95.844</td>\n",
              "      <td>810.0</td>\n",
              "      <td>1.0</td>\n",
              "      <td>964194</td>\n",
              "      <td>1582.0</td>\n",
              "      <td>890.0</td>\n",
              "      <td>810.000000</td>\n",
              "    </tr>\n",
              "    <tr>\n",
              "      <th>1</th>\n",
              "      <td>791.0</td>\n",
              "      <td>1938.500000</td>\n",
              "      <td>34.172</td>\n",
              "      <td>574.117</td>\n",
              "      <td>1028.5</td>\n",
              "      <td>134.0</td>\n",
              "      <td>2463660</td>\n",
              "      <td>1604.0</td>\n",
              "      <td>1623.0</td>\n",
              "      <td>1313.142001</td>\n",
              "    </tr>\n",
              "    <tr>\n",
              "      <th>2</th>\n",
              "      <td>660.0</td>\n",
              "      <td>1141.000000</td>\n",
              "      <td>309.005</td>\n",
              "      <td>217.650</td>\n",
              "      <td>813.0</td>\n",
              "      <td>68.0</td>\n",
              "      <td>571401</td>\n",
              "      <td>1006.0</td>\n",
              "      <td>1440.0</td>\n",
              "      <td>999.346206</td>\n",
              "    </tr>\n",
              "    <tr>\n",
              "      <th>3</th>\n",
              "      <td>655.0</td>\n",
              "      <td>3584.500000</td>\n",
              "      <td>348.280</td>\n",
              "      <td>1686.482</td>\n",
              "      <td>726.0</td>\n",
              "      <td>484.0</td>\n",
              "      <td>1628682</td>\n",
              "      <td>3204.0</td>\n",
              "      <td>820.0</td>\n",
              "      <td>1023.158693</td>\n",
              "    </tr>\n",
              "    <tr>\n",
              "      <th>4</th>\n",
              "      <td>770.0</td>\n",
              "      <td>3351.000000</td>\n",
              "      <td>775.957</td>\n",
              "      <td>1554.168</td>\n",
              "      <td>770.0</td>\n",
              "      <td>537.0</td>\n",
              "      <td>1737243</td>\n",
              "      <td>3071.0</td>\n",
              "      <td>2881.0</td>\n",
              "      <td>1869.895174</td>\n",
              "    </tr>\n",
              "  </tbody>\n",
              "</table>\n",
              "</div>"
            ],
            "text/plain": [
              "     fcp  interactive      srt       but  ...      tbw     fci     lcp     ux_index\n",
              "0  810.0  1623.000353  148.574    95.844  ...   964194  1582.0   890.0   810.000000\n",
              "1  791.0  1938.500000   34.172   574.117  ...  2463660  1604.0  1623.0  1313.142001\n",
              "2  660.0  1141.000000  309.005   217.650  ...   571401  1006.0  1440.0   999.346206\n",
              "3  655.0  3584.500000  348.280  1686.482  ...  1628682  3204.0   820.0  1023.158693\n",
              "4  770.0  3351.000000  775.957  1554.168  ...  1737243  3071.0  2881.0  1869.895174\n",
              "\n",
              "[5 rows x 10 columns]"
            ]
          },
          "metadata": {
            "tags": []
          },
          "execution_count": 4
        }
      ]
    },
    {
      "cell_type": "code",
      "metadata": {
        "id": "1to5hsvvlL4M",
        "colab": {
          "base_uri": "https://localhost:8080/"
        },
        "outputId": "f3f3841f-2c11-44c8-924c-41756cc0286b"
      },
      "source": [
        "df.shape"
      ],
      "execution_count": null,
      "outputs": [
        {
          "output_type": "execute_result",
          "data": {
            "text/plain": [
              "(75762, 10)"
            ]
          },
          "metadata": {
            "tags": []
          },
          "execution_count": 5
        }
      ]
    },
    {
      "cell_type": "code",
      "metadata": {
        "id": "PHW2lZlIc3oB"
      },
      "source": [
        "from sklearn.model_selection import train_test_split\n",
        "\n",
        "X = df.drop(columns=['ux_index'], axis = 1)\n",
        "y = df['ux_index']\n",
        "SEED = 1\n",
        "\n",
        "X_train, X_test, y_train, y_test = train_test_split(X, y, test_size=0.20, random_state=SEED)"
      ],
      "execution_count": null,
      "outputs": []
    },
    {
      "cell_type": "code",
      "metadata": {
        "id": "IUw9u1dsdBZ1"
      },
      "source": [
        "from sklearn.ensemble import RandomForestRegressor"
      ],
      "execution_count": null,
      "outputs": []
    },
    {
      "cell_type": "code",
      "metadata": {
        "id": "biKkN1ADdO1K"
      },
      "source": [
        "rf = RandomForestRegressor(n_estimators=400, max_features='log2', min_samples_leaf=1, max_depth=23)"
      ],
      "execution_count": null,
      "outputs": []
    },
    {
      "cell_type": "code",
      "metadata": {
        "colab": {
          "base_uri": "https://localhost:8080/"
        },
        "id": "LBI1qftzdkWg",
        "outputId": "8a01899f-fff2-4f8e-a99d-5939d5e4c67e"
      },
      "source": [
        "rf.fit(X_train, y_train)"
      ],
      "execution_count": null,
      "outputs": [
        {
          "output_type": "execute_result",
          "data": {
            "text/plain": [
              "RandomForestRegressor(bootstrap=True, ccp_alpha=0.0, criterion='mse',\n",
              "                      max_depth=23, max_features='log2', max_leaf_nodes=None,\n",
              "                      max_samples=None, min_impurity_decrease=0.0,\n",
              "                      min_impurity_split=None, min_samples_leaf=1,\n",
              "                      min_samples_split=2, min_weight_fraction_leaf=0.0,\n",
              "                      n_estimators=400, n_jobs=None, oob_score=False,\n",
              "                      random_state=None, verbose=0, warm_start=False)"
            ]
          },
          "metadata": {
            "tags": []
          },
          "execution_count": 8
        }
      ]
    },
    {
      "cell_type": "code",
      "metadata": {
        "colab": {
          "base_uri": "https://localhost:8080/"
        },
        "id": "v51GAdh0do_B",
        "outputId": "88cc18ad-b38b-4631-8c51-f5fe0e1a4d05"
      },
      "source": [
        "rf.feature_importances_"
      ],
      "execution_count": null,
      "outputs": [
        {
          "output_type": "execute_result",
          "data": {
            "text/plain": [
              "array([0.03962919, 0.22101375, 0.18485401, 0.11054415, 0.05036013,\n",
              "       0.0392105 , 0.10146644, 0.16148079, 0.09144104])"
            ]
          },
          "metadata": {
            "tags": []
          },
          "execution_count": 9
        }
      ]
    },
    {
      "cell_type": "code",
      "metadata": {
        "id": "9i5Rb3r-l0Sp"
      },
      "source": [
        "from sklearn.metrics import mean_squared_error as MSE"
      ],
      "execution_count": null,
      "outputs": []
    },
    {
      "cell_type": "code",
      "metadata": {
        "id": "BxYce9RFni4R"
      },
      "source": [
        "y_pred = rf.predict(X_test)"
      ],
      "execution_count": null,
      "outputs": []
    },
    {
      "cell_type": "code",
      "metadata": {
        "colab": {
          "base_uri": "https://localhost:8080/"
        },
        "id": "OsDxzx-jnpL7",
        "outputId": "656335c3-5204-4f31-c400-85f223ded944"
      },
      "source": [
        "rmse_test = MSE(y_test, y_pred)**(1/2)\n",
        "rmse_test"
      ],
      "execution_count": null,
      "outputs": [
        {
          "output_type": "execute_result",
          "data": {
            "text/plain": [
              "632.9824819527752"
            ]
          },
          "metadata": {
            "tags": []
          },
          "execution_count": 12
        }
      ]
    },
    {
      "cell_type": "code",
      "metadata": {
        "id": "W6ZOthy1BPR6"
      },
      "source": [
        "from sklearn.metrics import r2_score"
      ],
      "execution_count": null,
      "outputs": []
    },
    {
      "cell_type": "code",
      "metadata": {
        "colab": {
          "base_uri": "https://localhost:8080/"
        },
        "id": "bRouQ7TtBRg4",
        "outputId": "0eebd5a5-0375-4c17-a09b-fb41bad61431"
      },
      "source": [
        "r2_test = r2_score(y_test, y_pred)\n",
        "r2_test"
      ],
      "execution_count": null,
      "outputs": [
        {
          "output_type": "execute_result",
          "data": {
            "text/plain": [
              "0.8336790882376739"
            ]
          },
          "metadata": {
            "tags": []
          },
          "execution_count": 14
        }
      ]
    },
    {
      "cell_type": "code",
      "metadata": {
        "id": "K5pRMct_nuNB"
      },
      "source": [
        "rank = pd.DataFrame(data = {\n",
        "    'Features': X.columns,\n",
        "    'Importance': np.array(rf.feature_importances_) * 100\n",
        "})"
      ],
      "execution_count": null,
      "outputs": []
    },
    {
      "cell_type": "code",
      "metadata": {
        "colab": {
          "base_uri": "https://localhost:8080/",
          "height": 328
        },
        "id": "vu9bVoA0pxaM",
        "outputId": "46aa46ff-9211-4146-b060-9102f9f409e9"
      },
      "source": [
        "rank"
      ],
      "execution_count": null,
      "outputs": [
        {
          "output_type": "execute_result",
          "data": {
            "text/html": [
              "<div>\n",
              "<style scoped>\n",
              "    .dataframe tbody tr th:only-of-type {\n",
              "        vertical-align: middle;\n",
              "    }\n",
              "\n",
              "    .dataframe tbody tr th {\n",
              "        vertical-align: top;\n",
              "    }\n",
              "\n",
              "    .dataframe thead th {\n",
              "        text-align: right;\n",
              "    }\n",
              "</style>\n",
              "<table border=\"1\" class=\"dataframe\">\n",
              "  <thead>\n",
              "    <tr style=\"text-align: right;\">\n",
              "      <th></th>\n",
              "      <th>Features</th>\n",
              "      <th>Importance</th>\n",
              "    </tr>\n",
              "  </thead>\n",
              "  <tbody>\n",
              "    <tr>\n",
              "      <th>0</th>\n",
              "      <td>fcp</td>\n",
              "      <td>4.034355</td>\n",
              "    </tr>\n",
              "    <tr>\n",
              "      <th>1</th>\n",
              "      <td>interactive</td>\n",
              "      <td>25.865896</td>\n",
              "    </tr>\n",
              "    <tr>\n",
              "      <th>2</th>\n",
              "      <td>srt</td>\n",
              "      <td>18.771512</td>\n",
              "    </tr>\n",
              "    <tr>\n",
              "      <th>3</th>\n",
              "      <td>but</td>\n",
              "      <td>10.302436</td>\n",
              "    </tr>\n",
              "    <tr>\n",
              "      <th>4</th>\n",
              "      <td>fmp</td>\n",
              "      <td>4.990506</td>\n",
              "    </tr>\n",
              "    <tr>\n",
              "      <th>5</th>\n",
              "      <td>tbt</td>\n",
              "      <td>4.397304</td>\n",
              "    </tr>\n",
              "    <tr>\n",
              "      <th>6</th>\n",
              "      <td>tbw</td>\n",
              "      <td>8.755702</td>\n",
              "    </tr>\n",
              "    <tr>\n",
              "      <th>7</th>\n",
              "      <td>fci</td>\n",
              "      <td>14.603341</td>\n",
              "    </tr>\n",
              "    <tr>\n",
              "      <th>8</th>\n",
              "      <td>lcp</td>\n",
              "      <td>8.278948</td>\n",
              "    </tr>\n",
              "  </tbody>\n",
              "</table>\n",
              "</div>"
            ],
            "text/plain": [
              "      Features  Importance\n",
              "0          fcp    4.034355\n",
              "1  interactive   25.865896\n",
              "2          srt   18.771512\n",
              "3          but   10.302436\n",
              "4          fmp    4.990506\n",
              "5          tbt    4.397304\n",
              "6          tbw    8.755702\n",
              "7          fci   14.603341\n",
              "8          lcp    8.278948"
            ]
          },
          "metadata": {
            "tags": []
          },
          "execution_count": 33
        }
      ]
    },
    {
      "cell_type": "code",
      "metadata": {
        "colab": {
          "base_uri": "https://localhost:8080/",
          "height": 328
        },
        "id": "tWPDlh31pyNi",
        "outputId": "283d2bbd-bfeb-444d-93ce-e18980e39d7c"
      },
      "source": [
        "rank = rank.sort_values(by='Importance')\n",
        "rank"
      ],
      "execution_count": null,
      "outputs": [
        {
          "output_type": "execute_result",
          "data": {
            "text/html": [
              "<div>\n",
              "<style scoped>\n",
              "    .dataframe tbody tr th:only-of-type {\n",
              "        vertical-align: middle;\n",
              "    }\n",
              "\n",
              "    .dataframe tbody tr th {\n",
              "        vertical-align: top;\n",
              "    }\n",
              "\n",
              "    .dataframe thead th {\n",
              "        text-align: right;\n",
              "    }\n",
              "</style>\n",
              "<table border=\"1\" class=\"dataframe\">\n",
              "  <thead>\n",
              "    <tr style=\"text-align: right;\">\n",
              "      <th></th>\n",
              "      <th>Features</th>\n",
              "      <th>Importance</th>\n",
              "    </tr>\n",
              "  </thead>\n",
              "  <tbody>\n",
              "    <tr>\n",
              "      <th>0</th>\n",
              "      <td>fcp</td>\n",
              "      <td>4.034355</td>\n",
              "    </tr>\n",
              "    <tr>\n",
              "      <th>5</th>\n",
              "      <td>tbt</td>\n",
              "      <td>4.397304</td>\n",
              "    </tr>\n",
              "    <tr>\n",
              "      <th>4</th>\n",
              "      <td>fmp</td>\n",
              "      <td>4.990506</td>\n",
              "    </tr>\n",
              "    <tr>\n",
              "      <th>8</th>\n",
              "      <td>lcp</td>\n",
              "      <td>8.278948</td>\n",
              "    </tr>\n",
              "    <tr>\n",
              "      <th>6</th>\n",
              "      <td>tbw</td>\n",
              "      <td>8.755702</td>\n",
              "    </tr>\n",
              "    <tr>\n",
              "      <th>3</th>\n",
              "      <td>but</td>\n",
              "      <td>10.302436</td>\n",
              "    </tr>\n",
              "    <tr>\n",
              "      <th>7</th>\n",
              "      <td>fci</td>\n",
              "      <td>14.603341</td>\n",
              "    </tr>\n",
              "    <tr>\n",
              "      <th>2</th>\n",
              "      <td>srt</td>\n",
              "      <td>18.771512</td>\n",
              "    </tr>\n",
              "    <tr>\n",
              "      <th>1</th>\n",
              "      <td>interactive</td>\n",
              "      <td>25.865896</td>\n",
              "    </tr>\n",
              "  </tbody>\n",
              "</table>\n",
              "</div>"
            ],
            "text/plain": [
              "      Features  Importance\n",
              "0          fcp    4.034355\n",
              "5          tbt    4.397304\n",
              "4          fmp    4.990506\n",
              "8          lcp    8.278948\n",
              "6          tbw    8.755702\n",
              "3          but   10.302436\n",
              "7          fci   14.603341\n",
              "2          srt   18.771512\n",
              "1  interactive   25.865896"
            ]
          },
          "metadata": {
            "tags": []
          },
          "execution_count": 34
        }
      ]
    },
    {
      "cell_type": "code",
      "metadata": {
        "colab": {
          "base_uri": "https://localhost:8080/",
          "height": 669
        },
        "id": "8yHHgdB-qxZn",
        "outputId": "f8e37e32-53f2-41cd-80e0-25da30881eae"
      },
      "source": [
        "plt.figure(figsize=(12, 10))\n",
        "colors = [\n",
        " '#e3f2fd',\n",
        " '#bbdefb',\n",
        " '#90caf9',\n",
        " '#64b5f6',\n",
        " '#42a5f5',\n",
        " '#2196f3',\n",
        " '#1e88e5',\n",
        " '#1976d2',\n",
        " '#1565c0',\n",
        "]\n",
        "\n",
        "yset = [\n",
        "  'First Contentful Paint',\n",
        "  'Total Blocking Time',\n",
        "  'First Meaningful Paint',\n",
        "  'Largest Contentful Paint',\n",
        "  'Total Byte Weight',\n",
        "  'Boot up time',\n",
        "  'First CPU Idle',\n",
        "  'Server Response Time',\n",
        "  'Time To Interactive'\n",
        "]\n",
        "\n",
        "plt.barh(y=yset, width=rank['Importance'], color=colors)\n",
        "plt.title('Impact of Web Performance Issues on Visual Progression Based User\\'s Experience', fontsize=18, pad=20)\n",
        "plt.xlabel('Impact of Issues', fontsize=18, labelpad=25)\n",
        "plt.rc('ytick',labelsize=15)\n",
        "plt.show()"
      ],
      "execution_count": null,
      "outputs": [
        {
          "output_type": "display_data",
          "data": {
            "image/png": "[encoded data removed]",
            "text/plain": [
              "<Figure size 864x720 with 1 Axes>"
            ]
          },
          "metadata": {
            "tags": [],
            "needs_background": "light"
          }
        }
      ]
    },
    {
      "cell_type": "code",
      "metadata": {
        "colab": {
          "base_uri": "https://localhost:8080/",
          "height": 34
        },
        "id": "i9A9Na1IsVp7",
        "outputId": "09cd40c8-a8c5-4fc5-fe5b-bf5757cf9adc"
      },
      "source": [
        "from google.colab import files\n",
        "\n",
        "df.to_excel('dset.xlsx')\n",
        "files.download('dset.xlsx')"
      ],
      "execution_count": null,
      "outputs": [
        {
          "output_type": "display_data",
          "data": {
            "application/javascript": [
              "\n",
              "    async function download(id, filename, size) {\n",
              "      if (!google.colab.kernel.accessAllowed) {\n",
              "        return;\n",
              "      }\n",
              "      const div = document.createElement('div');\n",
              "      const label = document.createElement('label');\n",
              "      label.textContent = `Downloading \"${filename}\": `;\n",
              "      div.appendChild(label);\n",
              "      const progress = document.createElement('progress');\n",
              "      progress.max = size;\n",
              "      div.appendChild(progress);\n",
              "      document.body.appendChild(div);\n",
              "\n",
              "      const buffers = [];\n",
              "      let downloaded = 0;\n",
              "\n",
              "      const channel = await google.colab.kernel.comms.open(id);\n",
              "      // Send a message to notify the kernel that we're ready.\n",
              "      channel.send({})\n",
              "\n",
              "      for await (const message of channel.messages) {\n",
              "        // Send a message to notify the kernel that we're ready.\n",
              "        channel.send({})\n",
              "        if (message.buffers) {\n",
              "          for (const buffer of message.buffers) {\n",
              "            buffers.push(buffer);\n",
              "            downloaded += buffer.byteLength;\n",
              "            progress.value = downloaded;\n",
              "          }\n",
              "        }\n",
              "      }\n",
              "      const blob = new Blob(buffers, {type: 'application/binary'});\n",
              "      const a = document.createElement('a');\n",
              "      a.href = window.URL.createObjectURL(blob);\n",
              "      a.download = filename;\n",
              "      div.appendChild(a);\n",
              "      a.click();\n",
              "      div.remove();\n",
              "    }\n",
              "  "
            ],
            "text/plain": [
              "<IPython.core.display.Javascript object>"
            ]
          },
          "metadata": {
            "tags": []
          }
        },
        {
          "output_type": "display_data",
          "data": {
            "application/javascript": [
              "download(\"download_0982aa05-44b0-4c58-b0ab-ab8b54c55982\", \"dset.xlsx\", 5553759)"
            ],
            "text/plain": [
              "<IPython.core.display.Javascript object>"
            ]
          },
          "metadata": {
            "tags": []
          }
        }
      ]
    }
  ]
}