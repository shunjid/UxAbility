{
  "nbformat": 4,
  "nbformat_minor": 0,
  "metadata": {
    "colab": {
      "name": "Remved-Outlier-UFS-Tree-Final-Tree-Based-Experiment-Final.ipynb",
      "provenance": [],
      "collapsed_sections": []
    },
    "kernelspec": {
      "name": "python3",
      "display_name": "Python 3"
    }
  },
  "cells": [
    {
      "cell_type": "code",
      "metadata": {
        "id": "FLXHgW4fdO9M"
      },
      "source": [
        "import numpy as np\n",
        "import pandas as pd"
      ],
      "execution_count": null,
      "outputs": []
    },
    {
      "cell_type": "code",
      "metadata": {
        "colab": {
          "base_uri": "https://localhost:8080/",
          "height": 224
        },
        "id": "UiFO5RDvdVUj",
        "outputId": "f0647d60-3602-4402-d514-a5acd90a8d4f"
      },
      "source": [
        "path = 'drive/MyDrive/Research/data_collection/final_cleaned/final_dataset.csv'\n",
        "df = pd.read_csv(path)\n",
        "df.head()"
      ],
      "execution_count": null,
      "outputs": [
        {
          "output_type": "execute_result",
          "data": {
            "text/html": [
              "<div>\n",
              "<style scoped>\n",
              "    .dataframe tbody tr th:only-of-type {\n",
              "        vertical-align: middle;\n",
              "    }\n",
              "\n",
              "    .dataframe tbody tr th {\n",
              "        vertical-align: top;\n",
              "    }\n",
              "\n",
              "    .dataframe thead th {\n",
              "        text-align: right;\n",
              "    }\n",
              "</style>\n",
              "<table border=\"1\" class=\"dataframe\">\n",
              "  <thead>\n",
              "    <tr style=\"text-align: right;\">\n",
              "      <th></th>\n",
              "      <th>fcp</th>\n",
              "      <th>interactive</th>\n",
              "      <th>srt</th>\n",
              "      <th>dom_size</th>\n",
              "      <th>but</th>\n",
              "      <th>fmp</th>\n",
              "      <th>tbt</th>\n",
              "      <th>tbw</th>\n",
              "      <th>fci</th>\n",
              "      <th>cls</th>\n",
              "      <th>lcp</th>\n",
              "      <th>ux_index</th>\n",
              "      <th>fid_category</th>\n",
              "      <th>lcp_category</th>\n",
              "      <th>fcp_category</th>\n",
              "      <th>cls_category</th>\n",
              "    </tr>\n",
              "  </thead>\n",
              "  <tbody>\n",
              "    <tr>\n",
              "      <th>0</th>\n",
              "      <td>810.0</td>\n",
              "      <td>1623.000353</td>\n",
              "      <td>148.574</td>\n",
              "      <td>222</td>\n",
              "      <td>95.844</td>\n",
              "      <td>810.0</td>\n",
              "      <td>1.0</td>\n",
              "      <td>964194</td>\n",
              "      <td>1582.0</td>\n",
              "      <td>0.000000</td>\n",
              "      <td>890.0</td>\n",
              "      <td>810.000000</td>\n",
              "      <td>1</td>\n",
              "      <td>1</td>\n",
              "      <td>2</td>\n",
              "      <td>1</td>\n",
              "    </tr>\n",
              "    <tr>\n",
              "      <th>1</th>\n",
              "      <td>791.0</td>\n",
              "      <td>1938.500000</td>\n",
              "      <td>34.172</td>\n",
              "      <td>1049</td>\n",
              "      <td>574.117</td>\n",
              "      <td>1028.5</td>\n",
              "      <td>134.0</td>\n",
              "      <td>2463660</td>\n",
              "      <td>1604.0</td>\n",
              "      <td>0.000000</td>\n",
              "      <td>1623.0</td>\n",
              "      <td>1313.142001</td>\n",
              "      <td>1</td>\n",
              "      <td>1</td>\n",
              "      <td>2</td>\n",
              "      <td>1</td>\n",
              "    </tr>\n",
              "    <tr>\n",
              "      <th>2</th>\n",
              "      <td>660.0</td>\n",
              "      <td>1141.000000</td>\n",
              "      <td>309.005</td>\n",
              "      <td>1814</td>\n",
              "      <td>217.650</td>\n",
              "      <td>813.0</td>\n",
              "      <td>68.0</td>\n",
              "      <td>571401</td>\n",
              "      <td>1006.0</td>\n",
              "      <td>0.000800</td>\n",
              "      <td>1440.0</td>\n",
              "      <td>999.346206</td>\n",
              "      <td>1</td>\n",
              "      <td>1</td>\n",
              "      <td>2</td>\n",
              "      <td>1</td>\n",
              "    </tr>\n",
              "    <tr>\n",
              "      <th>3</th>\n",
              "      <td>655.0</td>\n",
              "      <td>3584.500000</td>\n",
              "      <td>348.280</td>\n",
              "      <td>1413</td>\n",
              "      <td>1686.482</td>\n",
              "      <td>726.0</td>\n",
              "      <td>484.0</td>\n",
              "      <td>1628682</td>\n",
              "      <td>3204.0</td>\n",
              "      <td>0.028540</td>\n",
              "      <td>820.0</td>\n",
              "      <td>1023.158693</td>\n",
              "      <td>1</td>\n",
              "      <td>2</td>\n",
              "      <td>2</td>\n",
              "      <td>1</td>\n",
              "    </tr>\n",
              "    <tr>\n",
              "      <th>4</th>\n",
              "      <td>770.0</td>\n",
              "      <td>3351.000000</td>\n",
              "      <td>775.957</td>\n",
              "      <td>1156</td>\n",
              "      <td>1554.168</td>\n",
              "      <td>770.0</td>\n",
              "      <td>537.0</td>\n",
              "      <td>1737243</td>\n",
              "      <td>3071.0</td>\n",
              "      <td>0.033484</td>\n",
              "      <td>2881.0</td>\n",
              "      <td>1869.895174</td>\n",
              "      <td>1</td>\n",
              "      <td>2</td>\n",
              "      <td>2</td>\n",
              "      <td>2</td>\n",
              "    </tr>\n",
              "  </tbody>\n",
              "</table>\n",
              "</div>"
            ],
            "text/plain": [
              "     fcp  interactive      srt  ...  lcp_category  fcp_category  cls_category\n",
              "0  810.0  1623.000353  148.574  ...             1             2             1\n",
              "1  791.0  1938.500000   34.172  ...             1             2             1\n",
              "2  660.0  1141.000000  309.005  ...             1             2             1\n",
              "3  655.0  3584.500000  348.280  ...             2             2             1\n",
              "4  770.0  3351.000000  775.957  ...             2             2             2\n",
              "\n",
              "[5 rows x 16 columns]"
            ]
          },
          "metadata": {
            "tags": []
          },
          "execution_count": 2
        }
      ]
    },
    {
      "cell_type": "code",
      "metadata": {
        "colab": {
          "base_uri": "https://localhost:8080/",
          "height": 142
        },
        "id": "uWJQAfkXdgIw",
        "outputId": "ee5180e0-3ce0-46b3-f618-1861d0a42e22"
      },
      "source": [
        "df = df.drop([\n",
        "  'cls', 'dom_size',\n",
        "  \"fid_category\",\n",
        "  \"lcp_category\",\n",
        "  \"fcp_category\", \n",
        "  \"cls_category\"\n",
        "],1)\n",
        "\n",
        "df.head(3)"
      ],
      "execution_count": null,
      "outputs": [
        {
          "output_type": "execute_result",
          "data": {
            "text/html": [
              "<div>\n",
              "<style scoped>\n",
              "    .dataframe tbody tr th:only-of-type {\n",
              "        vertical-align: middle;\n",
              "    }\n",
              "\n",
              "    .dataframe tbody tr th {\n",
              "        vertical-align: top;\n",
              "    }\n",
              "\n",
              "    .dataframe thead th {\n",
              "        text-align: right;\n",
              "    }\n",
              "</style>\n",
              "<table border=\"1\" class=\"dataframe\">\n",
              "  <thead>\n",
              "    <tr style=\"text-align: right;\">\n",
              "      <th></th>\n",
              "      <th>fcp</th>\n",
              "      <th>interactive</th>\n",
              "      <th>srt</th>\n",
              "      <th>but</th>\n",
              "      <th>fmp</th>\n",
              "      <th>tbt</th>\n",
              "      <th>tbw</th>\n",
              "      <th>fci</th>\n",
              "      <th>lcp</th>\n",
              "      <th>ux_index</th>\n",
              "    </tr>\n",
              "  </thead>\n",
              "  <tbody>\n",
              "    <tr>\n",
              "      <th>0</th>\n",
              "      <td>810.0</td>\n",
              "      <td>1623.000353</td>\n",
              "      <td>148.574</td>\n",
              "      <td>95.844</td>\n",
              "      <td>810.0</td>\n",
              "      <td>1.0</td>\n",
              "      <td>964194</td>\n",
              "      <td>1582.0</td>\n",
              "      <td>890.0</td>\n",
              "      <td>810.000000</td>\n",
              "    </tr>\n",
              "    <tr>\n",
              "      <th>1</th>\n",
              "      <td>791.0</td>\n",
              "      <td>1938.500000</td>\n",
              "      <td>34.172</td>\n",
              "      <td>574.117</td>\n",
              "      <td>1028.5</td>\n",
              "      <td>134.0</td>\n",
              "      <td>2463660</td>\n",
              "      <td>1604.0</td>\n",
              "      <td>1623.0</td>\n",
              "      <td>1313.142001</td>\n",
              "    </tr>\n",
              "    <tr>\n",
              "      <th>2</th>\n",
              "      <td>660.0</td>\n",
              "      <td>1141.000000</td>\n",
              "      <td>309.005</td>\n",
              "      <td>217.650</td>\n",
              "      <td>813.0</td>\n",
              "      <td>68.0</td>\n",
              "      <td>571401</td>\n",
              "      <td>1006.0</td>\n",
              "      <td>1440.0</td>\n",
              "      <td>999.346206</td>\n",
              "    </tr>\n",
              "  </tbody>\n",
              "</table>\n",
              "</div>"
            ],
            "text/plain": [
              "     fcp  interactive      srt      but  ...      tbw     fci     lcp     ux_index\n",
              "0  810.0  1623.000353  148.574   95.844  ...   964194  1582.0   890.0   810.000000\n",
              "1  791.0  1938.500000   34.172  574.117  ...  2463660  1604.0  1623.0  1313.142001\n",
              "2  660.0  1141.000000  309.005  217.650  ...   571401  1006.0  1440.0   999.346206\n",
              "\n",
              "[3 rows x 10 columns]"
            ]
          },
          "metadata": {
            "tags": []
          },
          "execution_count": 3
        }
      ]
    },
    {
      "cell_type": "code",
      "metadata": {
        "id": "vwcg_RhqYP-m"
      },
      "source": [
        "# Computing IQR\n",
        "Q1 = df['ux_index'].quantile(0.25)\n",
        "Q3 = df['ux_index'].quantile(0.75)\n",
        "IQR = Q3 - Q1\n",
        "\n",
        "# Filtering Values between Q1-1.5IQR and Q3+1.5IQR\n",
        "df = df.query('(@Q1 - 1.5 * @IQR) <= ux_index <= (@Q3 + 1.5 * @IQR)')"
      ],
      "execution_count": null,
      "outputs": []
    },
    {
      "cell_type": "code",
      "metadata": {
        "colab": {
          "base_uri": "https://localhost:8080/",
          "height": 297
        },
        "id": "QfJtHqY71dxq",
        "outputId": "479aae5b-748c-449b-cb5d-62a545a51a12"
      },
      "source": [
        "df.describe()"
      ],
      "execution_count": null,
      "outputs": [
        {
          "output_type": "execute_result",
          "data": {
            "text/html": [
              "<div>\n",
              "<style scoped>\n",
              "    .dataframe tbody tr th:only-of-type {\n",
              "        vertical-align: middle;\n",
              "    }\n",
              "\n",
              "    .dataframe tbody tr th {\n",
              "        vertical-align: top;\n",
              "    }\n",
              "\n",
              "    .dataframe thead th {\n",
              "        text-align: right;\n",
              "    }\n",
              "</style>\n",
              "<table border=\"1\" class=\"dataframe\">\n",
              "  <thead>\n",
              "    <tr style=\"text-align: right;\">\n",
              "      <th></th>\n",
              "      <th>fcp</th>\n",
              "      <th>interactive</th>\n",
              "      <th>srt</th>\n",
              "      <th>but</th>\n",
              "      <th>fmp</th>\n",
              "      <th>tbt</th>\n",
              "      <th>tbw</th>\n",
              "      <th>fci</th>\n",
              "      <th>lcp</th>\n",
              "      <th>ux_index</th>\n",
              "    </tr>\n",
              "  </thead>\n",
              "  <tbody>\n",
              "    <tr>\n",
              "      <th>count</th>\n",
              "      <td>75762.000000</td>\n",
              "      <td>75762.000000</td>\n",
              "      <td>75762.000000</td>\n",
              "      <td>75762.000000</td>\n",
              "      <td>75762.000000</td>\n",
              "      <td>75762.000000</td>\n",
              "      <td>7.576200e+04</td>\n",
              "      <td>75762.000000</td>\n",
              "      <td>75762.000000</td>\n",
              "      <td>75762.000000</td>\n",
              "    </tr>\n",
              "    <tr>\n",
              "      <th>mean</th>\n",
              "      <td>932.827818</td>\n",
              "      <td>3961.247217</td>\n",
              "      <td>929.226237</td>\n",
              "      <td>1779.681090</td>\n",
              "      <td>1107.761351</td>\n",
              "      <td>349.240617</td>\n",
              "      <td>3.026213e+06</td>\n",
              "      <td>3246.381663</td>\n",
              "      <td>2466.179290</td>\n",
              "      <td>2853.481943</td>\n",
              "    </tr>\n",
              "    <tr>\n",
              "      <th>std</th>\n",
              "      <td>506.685031</td>\n",
              "      <td>3108.590147</td>\n",
              "      <td>815.101731</td>\n",
              "      <td>2142.225158</td>\n",
              "      <td>643.737603</td>\n",
              "      <td>596.723417</td>\n",
              "      <td>4.575173e+06</td>\n",
              "      <td>2421.332451</td>\n",
              "      <td>1850.041636</td>\n",
              "      <td>1552.752133</td>\n",
              "    </tr>\n",
              "    <tr>\n",
              "      <th>min</th>\n",
              "      <td>193.000000</td>\n",
              "      <td>193.000000</td>\n",
              "      <td>5.790000</td>\n",
              "      <td>0.000000</td>\n",
              "      <td>193.000000</td>\n",
              "      <td>0.000000</td>\n",
              "      <td>2.530000e+02</td>\n",
              "      <td>193.000000</td>\n",
              "      <td>194.000000</td>\n",
              "      <td>195.000000</td>\n",
              "    </tr>\n",
              "    <tr>\n",
              "      <th>25%</th>\n",
              "      <td>620.000000</td>\n",
              "      <td>1540.125000</td>\n",
              "      <td>354.125500</td>\n",
              "      <td>278.988250</td>\n",
              "      <td>704.000000</td>\n",
              "      <td>15.500000</td>\n",
              "      <td>1.079981e+06</td>\n",
              "      <td>1339.000000</td>\n",
              "      <td>1196.625000</td>\n",
              "      <td>1627.825928</td>\n",
              "    </tr>\n",
              "    <tr>\n",
              "      <th>50%</th>\n",
              "      <td>823.000000</td>\n",
              "      <td>3186.500000</td>\n",
              "      <td>752.994500</td>\n",
              "      <td>1014.001500</td>\n",
              "      <td>936.000000</td>\n",
              "      <td>141.500000</td>\n",
              "      <td>2.105680e+06</td>\n",
              "      <td>2633.000000</td>\n",
              "      <td>2020.000000</td>\n",
              "      <td>2599.659234</td>\n",
              "    </tr>\n",
              "    <tr>\n",
              "      <th>75%</th>\n",
              "      <td>1105.500000</td>\n",
              "      <td>5480.875000</td>\n",
              "      <td>1259.630500</td>\n",
              "      <td>2388.817750</td>\n",
              "      <td>1353.000000</td>\n",
              "      <td>450.500000</td>\n",
              "      <td>3.745136e+06</td>\n",
              "      <td>4515.000000</td>\n",
              "      <td>3155.000000</td>\n",
              "      <td>3803.281927</td>\n",
              "    </tr>\n",
              "    <tr>\n",
              "      <th>max</th>\n",
              "      <td>7147.000000</td>\n",
              "      <td>56131.000000</td>\n",
              "      <td>9862.042000</td>\n",
              "      <td>21218.420000</td>\n",
              "      <td>18650.000000</td>\n",
              "      <td>15656.500000</td>\n",
              "      <td>3.476087e+08</td>\n",
              "      <td>33366.000000</td>\n",
              "      <td>54185.000000</td>\n",
              "      <td>7350.324050</td>\n",
              "    </tr>\n",
              "  </tbody>\n",
              "</table>\n",
              "</div>"
            ],
            "text/plain": [
              "                fcp   interactive  ...           lcp      ux_index\n",
              "count  75762.000000  75762.000000  ...  75762.000000  75762.000000\n",
              "mean     932.827818   3961.247217  ...   2466.179290   2853.481943\n",
              "std      506.685031   3108.590147  ...   1850.041636   1552.752133\n",
              "min      193.000000    193.000000  ...    194.000000    195.000000\n",
              "25%      620.000000   1540.125000  ...   1196.625000   1627.825928\n",
              "50%      823.000000   3186.500000  ...   2020.000000   2599.659234\n",
              "75%     1105.500000   5480.875000  ...   3155.000000   3803.281927\n",
              "max     7147.000000  56131.000000  ...  54185.000000   7350.324050\n",
              "\n",
              "[8 rows x 10 columns]"
            ]
          },
          "metadata": {
            "tags": []
          },
          "execution_count": 5
        }
      ]
    },
    {
      "cell_type": "markdown",
      "metadata": {
        "id": "Upg66paNeKKj"
      },
      "source": [
        "# **Decision Tree Regression**"
      ]
    },
    {
      "cell_type": "code",
      "metadata": {
        "id": "LP-bNOc4pQSM"
      },
      "source": [
        "X = df.drop([\"ux_index\"], 1)\n",
        "y = df['ux_index']"
      ],
      "execution_count": null,
      "outputs": []
    },
    {
      "cell_type": "code",
      "metadata": {
        "id": "4CAF2dDSpfhC"
      },
      "source": [
        "from sklearn.model_selection import train_test_split\n",
        "X_train, X_test, y_train, y_test = train_test_split(X, y, test_size=0.20, random_state=42)"
      ],
      "execution_count": null,
      "outputs": []
    },
    {
      "cell_type": "code",
      "metadata": {
        "colab": {
          "base_uri": "https://localhost:8080/"
        },
        "id": "zFg-Jlckpj6N",
        "outputId": "310f91af-d9ad-42e5-ba16-2c41033cc0ac"
      },
      "source": [
        "(X_train.shape, y_train.shape)"
      ],
      "execution_count": null,
      "outputs": [
        {
          "output_type": "execute_result",
          "data": {
            "text/plain": [
              "((60609, 9), (60609,))"
            ]
          },
          "metadata": {
            "tags": []
          },
          "execution_count": 8
        }
      ]
    },
    {
      "cell_type": "markdown",
      "metadata": {
        "id": "kXxpctQ0HQk8"
      },
      "source": [
        "# **Generalization of Decision Tree**"
      ]
    },
    {
      "cell_type": "code",
      "metadata": {
        "id": "3G4NSeCnLcrA"
      },
      "source": [
        "from sklearn.model_selection import train_test_split\n",
        "from sklearn.tree import DecisionTreeRegressor\n",
        "from sklearn.model_selection import cross_val_score\n",
        "from sklearn.metrics import mean_squared_error as MSE\n",
        "\n",
        "def decisionTreeGeneralization(X_, y_, ts, fold, md, msl):\n",
        "  # Set SEED for reproducibility\n",
        "  SEED = 1\n",
        "\n",
        "  # Split the data into 70% train and 30% test\n",
        "  X_train, X_test, y_train, y_test = train_test_split(X_, y_, test_size=ts, random_state=SEED)\n",
        "\n",
        "  # Instantiate a DecisionTreeRegressor dt\n",
        "  dt = DecisionTreeRegressor(\n",
        "      max_depth=md,\n",
        "      min_samples_leaf=msl,\n",
        "      random_state=SEED\n",
        "  )\n",
        "\n",
        "  # Compute the array containing the K-folds CV MSEs\n",
        "  MSE_CV_scores = - cross_val_score(\n",
        "      dt, X_train, y_train, cv=fold, \n",
        "      scoring='neg_mean_squared_error',\n",
        "      n_jobs=-1\n",
        "  )\n",
        "  # Compute the 10-folds CV RMSE\n",
        "  RMSE_CV = (MSE_CV_scores.mean())**(1/2)\n",
        "  \n",
        "\n",
        "  # Fit dt to the training set\n",
        "  dt.fit(X_train, y_train)\n",
        "  # Predict the labels of the training set\n",
        "  y_pred_train = dt.predict(X_train)\n",
        "  # Evaluate the training set RMSE of dt\n",
        "  RMSE_train = (MSE(y_train, y_pred_train))**(1/2)\n",
        "\n",
        "  # Predict the labels of the training set\n",
        "  y_pred_test = dt.predict(X_test)\n",
        "  # Evaluate the training set RMSE of dt\n",
        "  RMSE_test = (MSE(y_test, y_pred_test))**(1/2)\n",
        "\n",
        "\n",
        "  return {\n",
        "      'Minimum Sample Leaf': msl,\n",
        "      'Max Tree Depth': md,\n",
        "      'Fold': fold,\n",
        "      'RMSE_CV': RMSE_CV,\n",
        "      'RMSE_train': RMSE_train,\n",
        "      'CV Error > Traning Error': RMSE_CV > RMSE_train,\n",
        "      'RMSE_test': RMSE_test\n",
        "  }"
      ],
      "execution_count": null,
      "outputs": []
    },
    {
      "cell_type": "code",
      "metadata": {
        "colab": {
          "base_uri": "https://localhost:8080/",
          "height": 421
        },
        "id": "y6HCCe2mJe2Y",
        "outputId": "9d5434c2-fbab-48bc-ed5d-d8706a0f408b"
      },
      "source": [
        "result = [\n",
        " decisionTreeGeneralization(X, y, 0.3, 10, 2, 10),\n",
        " decisionTreeGeneralization(X, y, 0.3, 10, 3, 10),\n",
        " decisionTreeGeneralization(X, y, 0.3, 10, 4, 10),\n",
        "\n",
        " decisionTreeGeneralization(X, y, 0.3, 8, 2, 10),\n",
        " decisionTreeGeneralization(X, y, 0.3, 8, 3, 10),\n",
        " decisionTreeGeneralization(X, y, 0.3, 8, 4, 10),\n",
        "\n",
        " decisionTreeGeneralization(X, y, 0.3, 10, 2, 20),\n",
        " decisionTreeGeneralization(X, y, 0.3, 10, 3, 20),\n",
        " decisionTreeGeneralization(X, y, 0.3, 10, 4, 20),\n",
        "\n",
        " decisionTreeGeneralization(X, y, 0.3, 8, 2, 20),\n",
        " decisionTreeGeneralization(X, y, 0.3, 8, 3, 20),\n",
        " decisionTreeGeneralization(X, y, 0.3, 8, 4, 20)\n",
        "]\n",
        "\n",
        "generalization = pd.DataFrame(result)\n",
        "generalization"
      ],
      "execution_count": null,
      "outputs": [
        {
          "output_type": "execute_result",
          "data": {
            "text/html": [
              "<div>\n",
              "<style scoped>\n",
              "    .dataframe tbody tr th:only-of-type {\n",
              "        vertical-align: middle;\n",
              "    }\n",
              "\n",
              "    .dataframe tbody tr th {\n",
              "        vertical-align: top;\n",
              "    }\n",
              "\n",
              "    .dataframe thead th {\n",
              "        text-align: right;\n",
              "    }\n",
              "</style>\n",
              "<table border=\"1\" class=\"dataframe\">\n",
              "  <thead>\n",
              "    <tr style=\"text-align: right;\">\n",
              "      <th></th>\n",
              "      <th>Minimum Sample Leaf</th>\n",
              "      <th>Max Tree Depth</th>\n",
              "      <th>Fold</th>\n",
              "      <th>RMSE_CV</th>\n",
              "      <th>RMSE_train</th>\n",
              "      <th>CV Error &gt; Traning Error</th>\n",
              "      <th>RMSE_test</th>\n",
              "    </tr>\n",
              "  </thead>\n",
              "  <tbody>\n",
              "    <tr>\n",
              "      <th>0</th>\n",
              "      <td>10</td>\n",
              "      <td>2</td>\n",
              "      <td>10</td>\n",
              "      <td>1025.741584</td>\n",
              "      <td>1024.057457</td>\n",
              "      <td>True</td>\n",
              "      <td>1018.743406</td>\n",
              "    </tr>\n",
              "    <tr>\n",
              "      <th>1</th>\n",
              "      <td>10</td>\n",
              "      <td>3</td>\n",
              "      <td>10</td>\n",
              "      <td>923.986663</td>\n",
              "      <td>920.011686</td>\n",
              "      <td>True</td>\n",
              "      <td>915.636590</td>\n",
              "    </tr>\n",
              "    <tr>\n",
              "      <th>2</th>\n",
              "      <td>10</td>\n",
              "      <td>4</td>\n",
              "      <td>10</td>\n",
              "      <td>854.070384</td>\n",
              "      <td>847.650328</td>\n",
              "      <td>True</td>\n",
              "      <td>846.476563</td>\n",
              "    </tr>\n",
              "    <tr>\n",
              "      <th>3</th>\n",
              "      <td>10</td>\n",
              "      <td>2</td>\n",
              "      <td>8</td>\n",
              "      <td>1026.039619</td>\n",
              "      <td>1024.057457</td>\n",
              "      <td>True</td>\n",
              "      <td>1018.743406</td>\n",
              "    </tr>\n",
              "    <tr>\n",
              "      <th>4</th>\n",
              "      <td>10</td>\n",
              "      <td>3</td>\n",
              "      <td>8</td>\n",
              "      <td>924.342893</td>\n",
              "      <td>920.011686</td>\n",
              "      <td>True</td>\n",
              "      <td>915.636590</td>\n",
              "    </tr>\n",
              "    <tr>\n",
              "      <th>5</th>\n",
              "      <td>10</td>\n",
              "      <td>4</td>\n",
              "      <td>8</td>\n",
              "      <td>855.384009</td>\n",
              "      <td>847.650328</td>\n",
              "      <td>True</td>\n",
              "      <td>846.476563</td>\n",
              "    </tr>\n",
              "    <tr>\n",
              "      <th>6</th>\n",
              "      <td>20</td>\n",
              "      <td>2</td>\n",
              "      <td>10</td>\n",
              "      <td>1025.741584</td>\n",
              "      <td>1024.057457</td>\n",
              "      <td>True</td>\n",
              "      <td>1018.743406</td>\n",
              "    </tr>\n",
              "    <tr>\n",
              "      <th>7</th>\n",
              "      <td>20</td>\n",
              "      <td>3</td>\n",
              "      <td>10</td>\n",
              "      <td>923.986663</td>\n",
              "      <td>920.011686</td>\n",
              "      <td>True</td>\n",
              "      <td>915.636590</td>\n",
              "    </tr>\n",
              "    <tr>\n",
              "      <th>8</th>\n",
              "      <td>20</td>\n",
              "      <td>4</td>\n",
              "      <td>10</td>\n",
              "      <td>854.070384</td>\n",
              "      <td>847.650328</td>\n",
              "      <td>True</td>\n",
              "      <td>846.476563</td>\n",
              "    </tr>\n",
              "    <tr>\n",
              "      <th>9</th>\n",
              "      <td>20</td>\n",
              "      <td>2</td>\n",
              "      <td>8</td>\n",
              "      <td>1026.039619</td>\n",
              "      <td>1024.057457</td>\n",
              "      <td>True</td>\n",
              "      <td>1018.743406</td>\n",
              "    </tr>\n",
              "    <tr>\n",
              "      <th>10</th>\n",
              "      <td>20</td>\n",
              "      <td>3</td>\n",
              "      <td>8</td>\n",
              "      <td>924.342893</td>\n",
              "      <td>920.011686</td>\n",
              "      <td>True</td>\n",
              "      <td>915.636590</td>\n",
              "    </tr>\n",
              "    <tr>\n",
              "      <th>11</th>\n",
              "      <td>20</td>\n",
              "      <td>4</td>\n",
              "      <td>8</td>\n",
              "      <td>855.384009</td>\n",
              "      <td>847.650328</td>\n",
              "      <td>True</td>\n",
              "      <td>846.476563</td>\n",
              "    </tr>\n",
              "  </tbody>\n",
              "</table>\n",
              "</div>"
            ],
            "text/plain": [
              "    Minimum Sample Leaf  Max Tree Depth  ...  CV Error > Traning Error    RMSE_test\n",
              "0                    10               2  ...                      True  1018.743406\n",
              "1                    10               3  ...                      True   915.636590\n",
              "2                    10               4  ...                      True   846.476563\n",
              "3                    10               2  ...                      True  1018.743406\n",
              "4                    10               3  ...                      True   915.636590\n",
              "5                    10               4  ...                      True   846.476563\n",
              "6                    20               2  ...                      True  1018.743406\n",
              "7                    20               3  ...                      True   915.636590\n",
              "8                    20               4  ...                      True   846.476563\n",
              "9                    20               2  ...                      True  1018.743406\n",
              "10                   20               3  ...                      True   915.636590\n",
              "11                   20               4  ...                      True   846.476563\n",
              "\n",
              "[12 rows x 7 columns]"
            ]
          },
          "metadata": {
            "tags": []
          },
          "execution_count": 9
        }
      ]
    },
    {
      "cell_type": "markdown",
      "metadata": {
        "id": "GDNLrljr0bMm"
      },
      "source": [
        "**From Generalization we get:**\n",
        "\n",
        "- 10 Fold, 4 Depth Has Lowest RMSE_TEST\n",
        "- 8 Fold, 4 Depth Has Lowest RMSE_CV, RMSE_TEST (Equal to 10F)"
      ]
    },
    {
      "cell_type": "markdown",
      "metadata": {
        "id": "AvcUrEEve7nt"
      },
      "source": [
        "# Cross Validate"
      ]
    },
    {
      "cell_type": "code",
      "metadata": {
        "id": "_QuWrOUWe4bm"
      },
      "source": [
        "from sklearn.model_selection import train_test_split\n",
        "from sklearn.model_selection import KFold, cross_validate\n",
        "from sklearn.tree import DecisionTreeRegressor\n",
        "import math"
      ],
      "execution_count": null,
      "outputs": []
    },
    {
      "cell_type": "code",
      "metadata": {
        "id": "WPDdJ_a9OO5C"
      },
      "source": [
        "def dtregressor(X_, y_, ts, split, estimator):\n",
        "  SEED = 42\n",
        "  X_train, X_test, y_train, y_test = train_test_split(X_, y_, test_size=ts, random_state=SEED)\n",
        "\n",
        "  cv = KFold(\n",
        "    n_splits=split,\n",
        "    shuffle=True,\n",
        "    random_state= SEED\n",
        "  )\n",
        "\n",
        "  dt_kfold = cross_validate(\n",
        "      estimator, \n",
        "      X_train,\n",
        "      y_train,\n",
        "      scoring='r2', \n",
        "      cv=cv, \n",
        "      return_train_score = True, \n",
        "      n_jobs=-1\n",
        "  )\n",
        "\n",
        "  dt_kfold_rmse = cross_validate(\n",
        "      estimator, \n",
        "      X_train,\n",
        "      y_train,\n",
        "      scoring='neg_mean_squared_error', \n",
        "      cv=cv, \n",
        "      return_train_score = True, \n",
        "      n_jobs=-1\n",
        "  )\n",
        "\n",
        "  return {\n",
        "      'min_sample_leaf': estimator.min_samples_leaf,\n",
        "      'fold': split,\n",
        "      'mean_test_accuracy_r2': np.mean(np.array(dt_kfold['test_score'])) * 100,\n",
        "      'mean_test_accuracy_rmse': math.sqrt(np.mean(np.array(dt_kfold_rmse['test_score'])) * -1),\n",
        "      'mean_training_accuracy_r2': np.mean(np.array(dt_kfold['train_score'])) * 100\n",
        "  }"
      ],
      "execution_count": null,
      "outputs": []
    },
    {
      "cell_type": "code",
      "metadata": {
        "colab": {
          "base_uri": "https://localhost:8080/",
          "height": 452
        },
        "id": "mu2J37CUikNG",
        "outputId": "40f4ed7d-357a-48bf-f14a-a4feccffcc37"
      },
      "source": [
        "result = [\n",
        "  dtregressor(X, y, 0.2, 8, DecisionTreeRegressor()),\n",
        "  dtregressor(X, y, 0.2, 8, DecisionTreeRegressor(min_samples_leaf=10)),\n",
        "  dtregressor(X, y, 0.2, 8, DecisionTreeRegressor(min_samples_leaf=15)),\n",
        "  dtregressor(X, y, 0.2, 8, DecisionTreeRegressor(min_samples_leaf=20)),\n",
        "  dtregressor(X, y, 0.2, 8, DecisionTreeRegressor(min_samples_leaf=25)),\n",
        "  dtregressor(X, y, 0.2, 8, DecisionTreeRegressor(min_samples_leaf=30)),\n",
        "  dtregressor(X, y, 0.2, 8, DecisionTreeRegressor(min_samples_leaf=40)),\n",
        "  dtregressor(X, y, 0.2, 8, DecisionTreeRegressor(min_samples_leaf=50)),\n",
        "  dtregressor(X, y, 0.2, 8, DecisionTreeRegressor(min_samples_leaf=90)),\n",
        "  dtregressor(X, y, 0.2, 8, DecisionTreeRegressor(min_samples_leaf=150)),\n",
        "  dtregressor(X, y, 0.2, 8, DecisionTreeRegressor(min_samples_leaf=200)),\n",
        "  dtregressor(X, y, 0.2, 8, DecisionTreeRegressor(min_samples_leaf=300)),\n",
        "  dtregressor(X, y, 0.2, 8, DecisionTreeRegressor(min_samples_leaf=400))\n",
        "]\n",
        "\n",
        "dt_reg_df = pd.DataFrame(result)\n",
        "dt_reg_df"
      ],
      "execution_count": null,
      "outputs": [
        {
          "output_type": "execute_result",
          "data": {
            "text/html": [
              "<div>\n",
              "<style scoped>\n",
              "    .dataframe tbody tr th:only-of-type {\n",
              "        vertical-align: middle;\n",
              "    }\n",
              "\n",
              "    .dataframe tbody tr th {\n",
              "        vertical-align: top;\n",
              "    }\n",
              "\n",
              "    .dataframe thead th {\n",
              "        text-align: right;\n",
              "    }\n",
              "</style>\n",
              "<table border=\"1\" class=\"dataframe\">\n",
              "  <thead>\n",
              "    <tr style=\"text-align: right;\">\n",
              "      <th></th>\n",
              "      <th>min_sample_leaf</th>\n",
              "      <th>fold</th>\n",
              "      <th>mean_test_accuracy_r2</th>\n",
              "      <th>mean_test_accuracy_rmse</th>\n",
              "      <th>mean_training_accuracy_r2</th>\n",
              "    </tr>\n",
              "  </thead>\n",
              "  <tbody>\n",
              "    <tr>\n",
              "      <th>0</th>\n",
              "      <td>1</td>\n",
              "      <td>8</td>\n",
              "      <td>64.087446</td>\n",
              "      <td>929.577417</td>\n",
              "      <td>100.000000</td>\n",
              "    </tr>\n",
              "    <tr>\n",
              "      <th>1</th>\n",
              "      <td>10</td>\n",
              "      <td>8</td>\n",
              "      <td>76.329707</td>\n",
              "      <td>756.221463</td>\n",
              "      <td>88.573145</td>\n",
              "    </tr>\n",
              "    <tr>\n",
              "      <th>2</th>\n",
              "      <td>15</td>\n",
              "      <td>8</td>\n",
              "      <td>77.697978</td>\n",
              "      <td>734.038943</td>\n",
              "      <td>86.634104</td>\n",
              "    </tr>\n",
              "    <tr>\n",
              "      <th>3</th>\n",
              "      <td>20</td>\n",
              "      <td>8</td>\n",
              "      <td>78.392613</td>\n",
              "      <td>722.522217</td>\n",
              "      <td>85.453820</td>\n",
              "    </tr>\n",
              "    <tr>\n",
              "      <th>4</th>\n",
              "      <td>25</td>\n",
              "      <td>8</td>\n",
              "      <td>78.863135</td>\n",
              "      <td>714.636506</td>\n",
              "      <td>84.651346</td>\n",
              "    </tr>\n",
              "    <tr>\n",
              "      <th>5</th>\n",
              "      <td>30</td>\n",
              "      <td>8</td>\n",
              "      <td>79.110196</td>\n",
              "      <td>710.433295</td>\n",
              "      <td>84.073358</td>\n",
              "    </tr>\n",
              "    <tr>\n",
              "      <th>6</th>\n",
              "      <td>40</td>\n",
              "      <td>8</td>\n",
              "      <td>79.285755</td>\n",
              "      <td>707.445012</td>\n",
              "      <td>83.220459</td>\n",
              "    </tr>\n",
              "    <tr>\n",
              "      <th>7</th>\n",
              "      <td>50</td>\n",
              "      <td>8</td>\n",
              "      <td>79.300232</td>\n",
              "      <td>707.199883</td>\n",
              "      <td>82.620844</td>\n",
              "    </tr>\n",
              "    <tr>\n",
              "      <th>8</th>\n",
              "      <td>90</td>\n",
              "      <td>8</td>\n",
              "      <td>78.961539</td>\n",
              "      <td>712.963505</td>\n",
              "      <td>81.209633</td>\n",
              "    </tr>\n",
              "    <tr>\n",
              "      <th>9</th>\n",
              "      <td>150</td>\n",
              "      <td>8</td>\n",
              "      <td>78.323145</td>\n",
              "      <td>723.692893</td>\n",
              "      <td>79.988161</td>\n",
              "    </tr>\n",
              "    <tr>\n",
              "      <th>10</th>\n",
              "      <td>200</td>\n",
              "      <td>8</td>\n",
              "      <td>77.893518</td>\n",
              "      <td>730.835761</td>\n",
              "      <td>79.355059</td>\n",
              "    </tr>\n",
              "    <tr>\n",
              "      <th>11</th>\n",
              "      <td>300</td>\n",
              "      <td>8</td>\n",
              "      <td>77.202326</td>\n",
              "      <td>742.165106</td>\n",
              "      <td>78.333279</td>\n",
              "    </tr>\n",
              "    <tr>\n",
              "      <th>12</th>\n",
              "      <td>400</td>\n",
              "      <td>8</td>\n",
              "      <td>76.579000</td>\n",
              "      <td>752.245429</td>\n",
              "      <td>77.597280</td>\n",
              "    </tr>\n",
              "  </tbody>\n",
              "</table>\n",
              "</div>"
            ],
            "text/plain": [
              "    min_sample_leaf  fold  ...  mean_test_accuracy_rmse  mean_training_accuracy_r2\n",
              "0                 1     8  ...               929.577417                 100.000000\n",
              "1                10     8  ...               756.221463                  88.573145\n",
              "2                15     8  ...               734.038943                  86.634104\n",
              "3                20     8  ...               722.522217                  85.453820\n",
              "4                25     8  ...               714.636506                  84.651346\n",
              "5                30     8  ...               710.433295                  84.073358\n",
              "6                40     8  ...               707.445012                  83.220459\n",
              "7                50     8  ...               707.199883                  82.620844\n",
              "8                90     8  ...               712.963505                  81.209633\n",
              "9               150     8  ...               723.692893                  79.988161\n",
              "10              200     8  ...               730.835761                  79.355059\n",
              "11              300     8  ...               742.165106                  78.333279\n",
              "12              400     8  ...               752.245429                  77.597280\n",
              "\n",
              "[13 rows x 5 columns]"
            ]
          },
          "metadata": {
            "tags": []
          },
          "execution_count": 12
        }
      ]
    },
    {
      "cell_type": "code",
      "metadata": {
        "id": "9LvBrRxfivua"
      },
      "source": [
        "import matplotlib.pyplot as plt\n",
        "import matplotlib.patches as mpatches\n",
        "import seaborn as sns"
      ],
      "execution_count": null,
      "outputs": []
    },
    {
      "cell_type": "code",
      "metadata": {
        "colab": {
          "base_uri": "https://localhost:8080/",
          "height": 552
        },
        "id": "EFYiNFe-p_1e",
        "outputId": "4b12ad17-952b-4993-9fbb-5c7a3f7d73d2"
      },
      "source": [
        "plt.figure(figsize=(14, 8))\n",
        "plt.title(\n",
        "  'Decision Tree Regression (8 Fold Cross Validation)', \n",
        "  fontsize=18, \n",
        "  fontweight='light', \n",
        "  pad=20\n",
        ")\n",
        "plt.xlabel(\n",
        "  'Minimum Sample Leaf',\n",
        "  fontsize=16,\n",
        "  labelpad=20\n",
        ")\n",
        "plt.ylabel(\n",
        "  'Score (R-Squared)',\n",
        "  fontsize=16,\n",
        "  labelpad=20\n",
        ")\n",
        "plt.plot(\n",
        "  dt_reg_df['min_sample_leaf'], \n",
        "  dt_reg_df['mean_test_accuracy_r2'], \n",
        "  color='#ffab00', \n",
        "  linewidth=3,\n",
        "  marker = \".\",\n",
        "  markersize=20\n",
        ")\n",
        "\n",
        "plt.plot(\n",
        "  dt_reg_df['min_sample_leaf'], \n",
        "  dt_reg_df['mean_training_accuracy_r2'], \n",
        "  color='#3d5afe', \n",
        "  linewidth=3,\n",
        "  marker = \".\",\n",
        "  markersize=20\n",
        ")\n",
        "\n",
        "plt.legend(handles=[\n",
        "  mpatches.Patch(color='#ffab00', label='Test Accuracy'),\n",
        "  mpatches.Patch(color='#3d5afe', label='Training Accuracy')\n",
        "], fontsize=\"x-large\")\n",
        "\n",
        "plt.show()"
      ],
      "execution_count": null,
      "outputs": [
        {
          "output_type": "display_data",
          "data": {
            "image/png": "[encoded data removed]",
            "text/plain": [
              "<Figure size 1008x576 with 1 Axes>"
            ]
          },
          "metadata": {
            "tags": [],
            "needs_background": "light"
          }
        }
      ]
    },
    {
      "cell_type": "code",
      "metadata": {
        "colab": {
          "base_uri": "https://localhost:8080/",
          "height": 552
        },
        "id": "jUOc98-06tqe",
        "outputId": "a00137c8-1e68-4bbe-9f6f-7c75a1e799d2"
      },
      "source": [
        "plt.figure(figsize=(14, 8))\n",
        "plt.title(\n",
        "  'Decision Tree Regression Error (8 Fold Cross Validation)', \n",
        "  fontsize=18, \n",
        "  fontweight='light', \n",
        "  pad=20\n",
        ")\n",
        "plt.xlabel(\n",
        "  'Minimum Sample Leaf',\n",
        "  fontsize=16,\n",
        "  labelpad=20\n",
        ")\n",
        "plt.ylabel(\n",
        "  'Root Mean Squared Error',\n",
        "  fontsize=16,\n",
        "  labelpad=20\n",
        ")\n",
        "plt.plot(\n",
        "  dt_reg_df['min_sample_leaf'], \n",
        "  dt_reg_df['mean_test_accuracy_rmse'], \n",
        "  color='#ef5350', \n",
        "  linewidth=3,\n",
        "  marker = \".\",\n",
        "  markersize=20\n",
        ")\n",
        "\n",
        "plt.show()"
      ],
      "execution_count": null,
      "outputs": [
        {
          "output_type": "display_data",
          "data": {
            "image/png": "[encoded data removed]",
            "text/plain": [
              "<Figure size 1008x576 with 1 Axes>"
            ]
          },
          "metadata": {
            "tags": [],
            "needs_background": "light"
          }
        }
      ]
    },
    {
      "cell_type": "markdown",
      "metadata": {
        "id": "enlJrw3U-eme"
      },
      "source": [
        "# Random Forest Regressor\n",
        "## Cross Validate"
      ]
    },
    {
      "cell_type": "code",
      "metadata": {
        "id": "e30r3rw89apZ"
      },
      "source": [
        "def rfregressor(X_, y_, ts, split, estimator):\n",
        "  SEED = 42\n",
        "  X_train, X_test, y_train, y_test = train_test_split(X_, y_, test_size=ts, random_state=SEED)\n",
        "\n",
        "  cv = KFold(\n",
        "    n_splits=split,\n",
        "    shuffle=True,\n",
        "    random_state= SEED\n",
        "  )\n",
        "\n",
        "  rf_kfold = cross_validate(\n",
        "      estimator, \n",
        "      X_train,\n",
        "      y_train,\n",
        "      scoring='r2', \n",
        "      cv=cv, \n",
        "      return_train_score = True, \n",
        "      n_jobs=-1\n",
        "  )\n",
        "\n",
        "  rf_kfold_mse = cross_validate(\n",
        "      estimator, \n",
        "      X_train,\n",
        "      y_train,\n",
        "      scoring='neg_mean_squared_error', \n",
        "      cv=cv, \n",
        "      return_train_score = True, \n",
        "      n_jobs=-1\n",
        "  )\n",
        "\n",
        "  return {\n",
        "      'fold': split,\n",
        "      'mean_test_accuracy_r2': np.mean(np.array(rf_kfold['test_score'])) * 100,\n",
        "      'mean_test_accuracy_rmse': math.sqrt(np.mean(np.array(rf_kfold_mse['test_score'])) * -1),\n",
        "      'mean_training_accuracy_r2': np.mean(np.array(rf_kfold['train_score'])) * 100\n",
        "  }"
      ],
      "execution_count": null,
      "outputs": []
    },
    {
      "cell_type": "code",
      "metadata": {
        "id": "B3ktJi0EC47O"
      },
      "source": [
        "from sklearn.ensemble import RandomForestRegressor"
      ],
      "execution_count": null,
      "outputs": []
    },
    {
      "cell_type": "code",
      "metadata": {
        "colab": {
          "base_uri": "https://localhost:8080/",
          "height": 204
        },
        "id": "qfPtjf-kCmaK",
        "outputId": "e32145ce-f84a-4e80-aca8-80235f033e7e"
      },
      "source": [
        "result = [\n",
        "  rfregressor(X, y, 0.3, 10, RandomForestRegressor()),\n",
        "  rfregressor(X, y, 0.3, 8, RandomForestRegressor()),\n",
        "  rfregressor(X, y, 0.3, 6, RandomForestRegressor()),\n",
        "  rfregressor(X, y, 0.3, 5, RandomForestRegressor()),\n",
        "  rfregressor(X, y, 0.3, 3, RandomForestRegressor())\n",
        "]\n",
        "\n",
        "rf_reg_df = pd.DataFrame(result)\n",
        "rf_reg_df"
      ],
      "execution_count": null,
      "outputs": [
        {
          "output_type": "execute_result",
          "data": {
            "text/html": [
              "<div>\n",
              "<style scoped>\n",
              "    .dataframe tbody tr th:only-of-type {\n",
              "        vertical-align: middle;\n",
              "    }\n",
              "\n",
              "    .dataframe tbody tr th {\n",
              "        vertical-align: top;\n",
              "    }\n",
              "\n",
              "    .dataframe thead th {\n",
              "        text-align: right;\n",
              "    }\n",
              "</style>\n",
              "<table border=\"1\" class=\"dataframe\">\n",
              "  <thead>\n",
              "    <tr style=\"text-align: right;\">\n",
              "      <th></th>\n",
              "      <th>fold</th>\n",
              "      <th>mean_test_accuracy_r2</th>\n",
              "      <th>mean_test_accuracy_rmse</th>\n",
              "      <th>mean_training_accuracy_r2</th>\n",
              "    </tr>\n",
              "  </thead>\n",
              "  <tbody>\n",
              "    <tr>\n",
              "      <th>0</th>\n",
              "      <td>10</td>\n",
              "      <td>82.724058</td>\n",
              "      <td>646.994333</td>\n",
              "      <td>97.574457</td>\n",
              "    </tr>\n",
              "    <tr>\n",
              "      <th>1</th>\n",
              "      <td>8</td>\n",
              "      <td>82.694565</td>\n",
              "      <td>648.207661</td>\n",
              "      <td>97.570980</td>\n",
              "    </tr>\n",
              "    <tr>\n",
              "      <th>2</th>\n",
              "      <td>6</td>\n",
              "      <td>82.606923</td>\n",
              "      <td>647.892081</td>\n",
              "      <td>97.567861</td>\n",
              "    </tr>\n",
              "    <tr>\n",
              "      <th>3</th>\n",
              "      <td>5</td>\n",
              "      <td>82.606378</td>\n",
              "      <td>648.996607</td>\n",
              "      <td>97.560569</td>\n",
              "    </tr>\n",
              "    <tr>\n",
              "      <th>4</th>\n",
              "      <td>3</td>\n",
              "      <td>82.483684</td>\n",
              "      <td>652.758743</td>\n",
              "      <td>97.525327</td>\n",
              "    </tr>\n",
              "  </tbody>\n",
              "</table>\n",
              "</div>"
            ],
            "text/plain": [
              "   fold  ...  mean_training_accuracy_r2\n",
              "0    10  ...                  97.574457\n",
              "1     8  ...                  97.570980\n",
              "2     6  ...                  97.567861\n",
              "3     5  ...                  97.560569\n",
              "4     3  ...                  97.525327\n",
              "\n",
              "[5 rows x 4 columns]"
            ]
          },
          "metadata": {
            "tags": []
          },
          "execution_count": 14
        }
      ]
    },
    {
      "cell_type": "code",
      "metadata": {
        "id": "urq4jmA8EfBl"
      },
      "source": [
        "rf_reg_df_filtered = rf_reg_df"
      ],
      "execution_count": null,
      "outputs": []
    },
    {
      "cell_type": "code",
      "metadata": {
        "id": "kFRsP_q7E3Fj"
      },
      "source": [
        "rf_reg_df_filtered['mean_test_accuracy_r2'] = rf_reg_df_filtered['mean_test_accuracy_r2'] / 100"
      ],
      "execution_count": null,
      "outputs": []
    },
    {
      "cell_type": "code",
      "metadata": {
        "colab": {
          "base_uri": "https://localhost:8080/",
          "height": 204
        },
        "id": "P-JCUUacFE8D",
        "outputId": "9c3b9e26-09d6-40c0-8cca-c554665b573f"
      },
      "source": [
        "rf_reg_df_filtered"
      ],
      "execution_count": null,
      "outputs": [
        {
          "output_type": "execute_result",
          "data": {
            "text/html": [
              "<div>\n",
              "<style scoped>\n",
              "    .dataframe tbody tr th:only-of-type {\n",
              "        vertical-align: middle;\n",
              "    }\n",
              "\n",
              "    .dataframe tbody tr th {\n",
              "        vertical-align: top;\n",
              "    }\n",
              "\n",
              "    .dataframe thead th {\n",
              "        text-align: right;\n",
              "    }\n",
              "</style>\n",
              "<table border=\"1\" class=\"dataframe\">\n",
              "  <thead>\n",
              "    <tr style=\"text-align: right;\">\n",
              "      <th></th>\n",
              "      <th>fold</th>\n",
              "      <th>mean_test_accuracy_r2</th>\n",
              "      <th>mean_test_accuracy_rmse</th>\n",
              "      <th>mean_training_accuracy_r2</th>\n",
              "    </tr>\n",
              "  </thead>\n",
              "  <tbody>\n",
              "    <tr>\n",
              "      <th>0</th>\n",
              "      <td>10</td>\n",
              "      <td>0.827241</td>\n",
              "      <td>646.994333</td>\n",
              "      <td>97.574457</td>\n",
              "    </tr>\n",
              "    <tr>\n",
              "      <th>1</th>\n",
              "      <td>8</td>\n",
              "      <td>0.826946</td>\n",
              "      <td>648.207661</td>\n",
              "      <td>97.570980</td>\n",
              "    </tr>\n",
              "    <tr>\n",
              "      <th>2</th>\n",
              "      <td>6</td>\n",
              "      <td>0.826069</td>\n",
              "      <td>647.892081</td>\n",
              "      <td>97.567861</td>\n",
              "    </tr>\n",
              "    <tr>\n",
              "      <th>3</th>\n",
              "      <td>5</td>\n",
              "      <td>0.826064</td>\n",
              "      <td>648.996607</td>\n",
              "      <td>97.560569</td>\n",
              "    </tr>\n",
              "    <tr>\n",
              "      <th>4</th>\n",
              "      <td>3</td>\n",
              "      <td>0.824837</td>\n",
              "      <td>652.758743</td>\n",
              "      <td>97.525327</td>\n",
              "    </tr>\n",
              "  </tbody>\n",
              "</table>\n",
              "</div>"
            ],
            "text/plain": [
              "   fold  ...  mean_training_accuracy_r2\n",
              "0    10  ...                  97.574457\n",
              "1     8  ...                  97.570980\n",
              "2     6  ...                  97.567861\n",
              "3     5  ...                  97.560569\n",
              "4     3  ...                  97.525327\n",
              "\n",
              "[5 rows x 4 columns]"
            ]
          },
          "metadata": {
            "tags": []
          },
          "execution_count": 22
        }
      ]
    },
    {
      "cell_type": "code",
      "metadata": {
        "colab": {
          "base_uri": "https://localhost:8080/",
          "height": 552
        },
        "id": "Xs5rw4AsTzsQ",
        "outputId": "a713d50d-241b-4de4-ea8a-62e479bcbe0d"
      },
      "source": [
        "plt.figure(figsize=(14, 8))\n",
        "plt.title(\n",
        "  'Random Forest Regression (Entries within 1.5 * IQR)', \n",
        "  fontsize=18, \n",
        "  fontweight='light', \n",
        "  pad=20\n",
        ")\n",
        "plt.xlabel(\n",
        "  'K-Fold Value',\n",
        "  fontsize=16,\n",
        "  labelpad=20\n",
        ")\n",
        "plt.ylabel(\n",
        "  'Test R-Squared',\n",
        "  fontsize=16,\n",
        "  labelpad=20\n",
        ")\n",
        "plt.plot(\n",
        "  rf_reg_df['fold'], \n",
        "  rf_reg_df['mean_test_accuracy_r2'], \n",
        "  color='#1565c0', \n",
        "  linewidth=5,\n",
        "  marker = \"o\",\n",
        "  markersize=16\n",
        ")\n",
        "\n",
        "plt.legend(handles=[\n",
        "  mpatches.Patch(color='#1565c0', label='R-Squared (Max 0.8272)'),\n",
        "], fontsize=\"x-large\")\n",
        "\n",
        "plt.show()"
      ],
      "execution_count": null,
      "outputs": [
        {
          "output_type": "display_data",
          "data": {
            "image/png": "[encoded data removed]",
            "text/plain": [
              "<Figure size 1008x576 with 1 Axes>"
            ]
          },
          "metadata": {
            "tags": [],
            "needs_background": "light"
          }
        }
      ]
    },
    {
      "cell_type": "code",
      "metadata": {
        "colab": {
          "base_uri": "https://localhost:8080/",
          "height": 552
        },
        "id": "_MxkMvG4FmCY",
        "outputId": "687cdeab-90b5-43e1-d305-c8a692722e8b"
      },
      "source": [
        "plt.figure(figsize=(14, 8))\n",
        "plt.title(\n",
        "  'Random Forest Regression Test RMSE', \n",
        "  fontsize=18, \n",
        "  fontweight='light', \n",
        "  pad=20\n",
        ")\n",
        "plt.xlabel(\n",
        "  'K-Fold for Cross Validation',\n",
        "  fontsize=16,\n",
        "  labelpad=20\n",
        ")\n",
        "plt.ylabel(\n",
        "  'Root Mean Squared Error',\n",
        "  fontsize=16,\n",
        "  labelpad=20\n",
        ")\n",
        "plt.plot(\n",
        "  rf_reg_df['fold'], \n",
        "  rf_reg_df['mean_test_accuracy_rmse'], \n",
        "  color='#ef5350', \n",
        "  linewidth=5,\n",
        "  marker = \"o\",\n",
        "  markersize=14\n",
        ")\n",
        "\n",
        "plt.legend(handles=[\n",
        "  mpatches.Patch(color='#ef5350', label='RMSE (Min 646.994333)'),\n",
        "], fontsize=\"x-large\")\n",
        "\n",
        "plt.show()"
      ],
      "execution_count": null,
      "outputs": [
        {
          "output_type": "display_data",
          "data": {
            "image/png": "[encoded data removed]",
            "text/plain": [
              "<Figure size 1008x576 with 1 Axes>"
            ]
          },
          "metadata": {
            "tags": [],
            "needs_background": "light"
          }
        }
      ]
    },
    {
      "cell_type": "markdown",
      "metadata": {
        "id": "24eXQ_WtjmFD"
      },
      "source": [
        "# Train Test Split (Find Best N_Estimator)"
      ]
    },
    {
      "cell_type": "code",
      "metadata": {
        "id": "S1zbrJaCoEkR"
      },
      "source": [
        "from sklearn.ensemble import RandomForestRegressor\n",
        "from sklearn.metrics import r2_score,mean_squared_error\n",
        "\n",
        "SEED = 123\n",
        "X_train, X_test, y_train, y_test = train_test_split(X, y, test_size=0.3, random_state=SEED)\n",
        "\n",
        "model = RandomForestRegressor(n_jobs=-1)\n",
        "estimators = np.arange(10, 200, 10)\n",
        "scores = []\n",
        "rmses_train = []\n",
        "rmses_test = []\n",
        "r2s_train = []\n",
        "r2s_test = []\n",
        "\n",
        "for n in estimators:\n",
        "  model.set_params(n_estimators=n)\n",
        "  model.fit(X_train, y_train)\n",
        "  scores.append(model.score(X_test, y_test))\n",
        "\n",
        "  r_train_pred = model.predict(X_train)\n",
        "  r_test_pred = model.predict(X_test)\n",
        "\n",
        "  rmses_train.append(np.sqrt(mean_squared_error(y_train,r_train_pred)))\n",
        "  rmses_test.append(mean_squared_error(y_test,r_test_pred))\n",
        "\n",
        "  r2s_train.append(r2_score(y_train,r_train_pred))\n",
        "  r2s_test.append(r2_score(y_test,r_test_pred))"
      ],
      "execution_count": null,
      "outputs": []
    },
    {
      "cell_type": "code",
      "metadata": {
        "colab": {
          "base_uri": "https://localhost:8080/",
          "height": 552
        },
        "id": "D9EfUotUljJZ",
        "outputId": "62722f6e-ada6-47f5-88db-8b1f1241154a"
      },
      "source": [
        "plt.figure(figsize=(14, 8))\n",
        "plt.title(\n",
        "  'Effect of n_estimators', \n",
        "  fontsize=18, \n",
        "  fontweight='light', \n",
        "  pad=20\n",
        ")\n",
        "plt.xlabel(\n",
        "  'Estimator',\n",
        "  fontsize=16,\n",
        "  labelpad=20\n",
        ")\n",
        "plt.ylabel(\n",
        "  'Score',\n",
        "  fontsize=16,\n",
        "  labelpad=20\n",
        ")\n",
        "plt.plot(\n",
        "  estimators, scores,\n",
        "  color='#0277bd', \n",
        "  linewidth=5,\n",
        "  marker = \"o\",\n",
        "  markersize=18\n",
        ")\n",
        "\n",
        "plt.show()"
      ],
      "execution_count": null,
      "outputs": [
        {
          "output_type": "display_data",
          "data": {
            "image/png": "[encoded data removed]",
            "text/plain": [
              "<Figure size 1008x576 with 1 Axes>"
            ]
          },
          "metadata": {
            "tags": [],
            "needs_background": "light"
          }
        }
      ]
    },
    {
      "cell_type": "code",
      "metadata": {
        "colab": {
          "base_uri": "https://localhost:8080/",
          "height": 552
        },
        "id": "udetPBPhlnBo",
        "outputId": "ea2385a0-f011-40cb-b8b5-dc77d689dd22"
      },
      "source": [
        "plt.figure(figsize=(14, 8))\n",
        "plt.title(\n",
        "  'Root Mean Squared Error vs. Estimator', \n",
        "  fontsize=18, \n",
        "  fontweight='light',\n",
        "  pad=20\n",
        ")\n",
        "plt.xlabel(\n",
        "  'Estimator',\n",
        "  fontsize=16,\n",
        "  labelpad=20\n",
        ")\n",
        "plt.ylabel(\n",
        "  'Score',\n",
        "  fontsize=16,\n",
        "  labelpad=20\n",
        ")\n",
        "plt.plot(\n",
        "  estimators, np.sqrt(rmses_test),\n",
        "  color='#f50057', \n",
        "  linewidth=5,\n",
        "  marker = \".\",\n",
        "  markersize=16\n",
        ")\n",
        "\n",
        "plt.show()"
      ],
      "execution_count": null,
      "outputs": [
        {
          "output_type": "display_data",
          "data": {
            "image/png": "[encoded data removed]",
            "text/plain": [
              "<Figure size 1008x576 with 1 Axes>"
            ]
          },
          "metadata": {
            "tags": [],
            "needs_background": "light"
          }
        }
      ]
    },
    {
      "cell_type": "code",
      "metadata": {
        "colab": {
          "base_uri": "https://localhost:8080/",
          "height": 638
        },
        "id": "w_0J0kzhlxy0",
        "outputId": "30dc4047-80c9-4624-c301-a689098efb6e"
      },
      "source": [
        "tts_result = pd.DataFrame(\n",
        "    data = {\n",
        "        'estimator': estimators,\n",
        "        'scores': np.array(scores) * 100,\n",
        "        'rmses_test': np.sqrt(rmses_test),\n",
        "        'r2s_test': r2s_test \n",
        "    }\n",
        ")\n",
        "tts_result = tts_result.sort_values(by = 'rmses_test', ascending=True)\n",
        "tts_result"
      ],
      "execution_count": null,
      "outputs": [
        {
          "output_type": "execute_result",
          "data": {
            "text/html": [
              "<div>\n",
              "<style scoped>\n",
              "    .dataframe tbody tr th:only-of-type {\n",
              "        vertical-align: middle;\n",
              "    }\n",
              "\n",
              "    .dataframe tbody tr th {\n",
              "        vertical-align: top;\n",
              "    }\n",
              "\n",
              "    .dataframe thead th {\n",
              "        text-align: right;\n",
              "    }\n",
              "</style>\n",
              "<table border=\"1\" class=\"dataframe\">\n",
              "  <thead>\n",
              "    <tr style=\"text-align: right;\">\n",
              "      <th></th>\n",
              "      <th>estimator</th>\n",
              "      <th>scores</th>\n",
              "      <th>rmses_test</th>\n",
              "      <th>r2s_test</th>\n",
              "    </tr>\n",
              "  </thead>\n",
              "  <tbody>\n",
              "    <tr>\n",
              "      <th>15</th>\n",
              "      <td>160</td>\n",
              "      <td>82.840914</td>\n",
              "      <td>644.008628</td>\n",
              "      <td>0.828409</td>\n",
              "    </tr>\n",
              "    <tr>\n",
              "      <th>17</th>\n",
              "      <td>180</td>\n",
              "      <td>82.806771</td>\n",
              "      <td>644.649045</td>\n",
              "      <td>0.828068</td>\n",
              "    </tr>\n",
              "    <tr>\n",
              "      <th>14</th>\n",
              "      <td>150</td>\n",
              "      <td>82.791613</td>\n",
              "      <td>644.933154</td>\n",
              "      <td>0.827916</td>\n",
              "    </tr>\n",
              "    <tr>\n",
              "      <th>11</th>\n",
              "      <td>120</td>\n",
              "      <td>82.781165</td>\n",
              "      <td>645.128906</td>\n",
              "      <td>0.827812</td>\n",
              "    </tr>\n",
              "    <tr>\n",
              "      <th>18</th>\n",
              "      <td>190</td>\n",
              "      <td>82.779987</td>\n",
              "      <td>645.150975</td>\n",
              "      <td>0.827800</td>\n",
              "    </tr>\n",
              "    <tr>\n",
              "      <th>13</th>\n",
              "      <td>140</td>\n",
              "      <td>82.758170</td>\n",
              "      <td>645.559528</td>\n",
              "      <td>0.827582</td>\n",
              "    </tr>\n",
              "    <tr>\n",
              "      <th>16</th>\n",
              "      <td>170</td>\n",
              "      <td>82.753541</td>\n",
              "      <td>645.646180</td>\n",
              "      <td>0.827535</td>\n",
              "    </tr>\n",
              "    <tr>\n",
              "      <th>12</th>\n",
              "      <td>130</td>\n",
              "      <td>82.750773</td>\n",
              "      <td>645.697985</td>\n",
              "      <td>0.827508</td>\n",
              "    </tr>\n",
              "    <tr>\n",
              "      <th>10</th>\n",
              "      <td>110</td>\n",
              "      <td>82.713718</td>\n",
              "      <td>646.391165</td>\n",
              "      <td>0.827137</td>\n",
              "    </tr>\n",
              "    <tr>\n",
              "      <th>9</th>\n",
              "      <td>100</td>\n",
              "      <td>82.694737</td>\n",
              "      <td>646.745943</td>\n",
              "      <td>0.826947</td>\n",
              "    </tr>\n",
              "    <tr>\n",
              "      <th>8</th>\n",
              "      <td>90</td>\n",
              "      <td>82.690877</td>\n",
              "      <td>646.818069</td>\n",
              "      <td>0.826909</td>\n",
              "    </tr>\n",
              "    <tr>\n",
              "      <th>7</th>\n",
              "      <td>80</td>\n",
              "      <td>82.681243</td>\n",
              "      <td>646.998055</td>\n",
              "      <td>0.826812</td>\n",
              "    </tr>\n",
              "    <tr>\n",
              "      <th>6</th>\n",
              "      <td>70</td>\n",
              "      <td>82.595253</td>\n",
              "      <td>648.602276</td>\n",
              "      <td>0.825953</td>\n",
              "    </tr>\n",
              "    <tr>\n",
              "      <th>5</th>\n",
              "      <td>60</td>\n",
              "      <td>82.564325</td>\n",
              "      <td>649.178305</td>\n",
              "      <td>0.825643</td>\n",
              "    </tr>\n",
              "    <tr>\n",
              "      <th>4</th>\n",
              "      <td>50</td>\n",
              "      <td>82.519259</td>\n",
              "      <td>650.016735</td>\n",
              "      <td>0.825193</td>\n",
              "    </tr>\n",
              "    <tr>\n",
              "      <th>3</th>\n",
              "      <td>40</td>\n",
              "      <td>82.412069</td>\n",
              "      <td>652.006596</td>\n",
              "      <td>0.824121</td>\n",
              "    </tr>\n",
              "    <tr>\n",
              "      <th>2</th>\n",
              "      <td>30</td>\n",
              "      <td>82.198487</td>\n",
              "      <td>655.953524</td>\n",
              "      <td>0.821985</td>\n",
              "    </tr>\n",
              "    <tr>\n",
              "      <th>1</th>\n",
              "      <td>20</td>\n",
              "      <td>81.942920</td>\n",
              "      <td>660.645350</td>\n",
              "      <td>0.819429</td>\n",
              "    </tr>\n",
              "    <tr>\n",
              "      <th>0</th>\n",
              "      <td>10</td>\n",
              "      <td>81.022732</td>\n",
              "      <td>677.269413</td>\n",
              "      <td>0.810227</td>\n",
              "    </tr>\n",
              "  </tbody>\n",
              "</table>\n",
              "</div>"
            ],
            "text/plain": [
              "    estimator     scores  rmses_test  r2s_test\n",
              "15        160  82.840914  644.008628  0.828409\n",
              "17        180  82.806771  644.649045  0.828068\n",
              "14        150  82.791613  644.933154  0.827916\n",
              "11        120  82.781165  645.128906  0.827812\n",
              "18        190  82.779987  645.150975  0.827800\n",
              "13        140  82.758170  645.559528  0.827582\n",
              "16        170  82.753541  645.646180  0.827535\n",
              "12        130  82.750773  645.697985  0.827508\n",
              "10        110  82.713718  646.391165  0.827137\n",
              "9         100  82.694737  646.745943  0.826947\n",
              "8          90  82.690877  646.818069  0.826909\n",
              "7          80  82.681243  646.998055  0.826812\n",
              "6          70  82.595253  648.602276  0.825953\n",
              "5          60  82.564325  649.178305  0.825643\n",
              "4          50  82.519259  650.016735  0.825193\n",
              "3          40  82.412069  652.006596  0.824121\n",
              "2          30  82.198487  655.953524  0.821985\n",
              "1          20  81.942920  660.645350  0.819429\n",
              "0          10  81.022732  677.269413  0.810227"
            ]
          },
          "metadata": {
            "tags": []
          },
          "execution_count": 24
        }
      ]
    },
    {
      "cell_type": "markdown",
      "metadata": {
        "id": "_1UiaqQ65Tu8"
      },
      "source": [
        "# Final K-Fold Building"
      ]
    },
    {
      "cell_type": "code",
      "metadata": {
        "id": "lYk89qmx5rbM"
      },
      "source": [
        "from sklearn.ensemble import RandomForestRegressor\n",
        "from sklearn.metrics import r2_score,mean_squared_error"
      ],
      "execution_count": null,
      "outputs": []
    },
    {
      "cell_type": "code",
      "metadata": {
        "id": "xvPnISAX5aZq"
      },
      "source": [
        "SEED = 123\n",
        "BEST_SPLIT = 8\n",
        "BEST_ESTIMATOR = 160\n",
        "BEST_DEPTH = 4\n",
        "\n",
        "X_train, X_test, y_train, y_test = train_test_split(X, y, test_size=0.3, random_state=SEED)\n",
        "\n",
        "cv = KFold(\n",
        "  n_splits = BEST_SPLIT,\n",
        "  shuffle = True,\n",
        "  random_state = SEED\n",
        ")\n",
        "\n",
        "\n",
        "model = None\n",
        "model = RandomForestRegressor(n_jobs=-1, n_estimators = BEST_ESTIMATOR)\n",
        "\n",
        "final_rf_kfold = cross_validate(\n",
        "    model, \n",
        "    X_train,\n",
        "    y_train,\n",
        "    scoring='r2', \n",
        "    cv=cv, \n",
        "    return_train_score = True, \n",
        "    n_jobs=-1\n",
        ")\n",
        "\n",
        "final_rf_kfold_rmse = cross_validate(\n",
        "    model, \n",
        "    X_train,\n",
        "    y_train,\n",
        "    scoring='neg_mean_squared_error', \n",
        "    cv=cv, \n",
        "    return_train_score = True, \n",
        "    n_jobs=-1\n",
        ")\n",
        "\n",
        "final_rf_kfold_mae = cross_validate(\n",
        "    model, \n",
        "    X_train,\n",
        "    y_train,\n",
        "    scoring='neg_mean_absolute_error', \n",
        "    cv=cv, \n",
        "    return_train_score = True, \n",
        "    n_jobs=-1\n",
        ")\n",
        "\n",
        "mean_test_accuracy = np.mean(np.array(final_rf_kfold['test_score'])) * 100\n",
        "mean_training_accuracy = np.mean(np.array(final_rf_kfold['train_score'])) * 100\n",
        "mean_test_accuracy_rmse = math.sqrt(np.mean(np.array(final_rf_kfold_rmse['test_score'])) * -1)\n",
        "mean_test_accuracy_mae = np.mean(np.array(final_rf_kfold_mae['test_score']))"
      ],
      "execution_count": null,
      "outputs": []
    },
    {
      "cell_type": "code",
      "metadata": {
        "colab": {
          "base_uri": "https://localhost:8080/"
        },
        "id": "fOUcIXhdNUvz",
        "outputId": "a52181a0-ece8-4a8a-ba34-cb06c6ca6e8e"
      },
      "source": [
        "(mean_test_accuracy, mean_training_accuracy)"
      ],
      "execution_count": null,
      "outputs": [
        {
          "output_type": "execute_result",
          "data": {
            "text/plain": [
              "(82.66299124749277, 97.60775526448218)"
            ]
          },
          "metadata": {
            "tags": []
          },
          "execution_count": 36
        }
      ]
    },
    {
      "cell_type": "code",
      "metadata": {
        "id": "uZ2z-OWDTOnE",
        "colab": {
          "base_uri": "https://localhost:8080/"
        },
        "outputId": "b7708f10-9c5e-43a2-ca4d-c4c09b8e4bb2"
      },
      "source": [
        "mean_test_accuracy_rmse"
      ],
      "execution_count": null,
      "outputs": [
        {
          "output_type": "execute_result",
          "data": {
            "text/plain": [
              "646.7497461174108"
            ]
          },
          "metadata": {
            "tags": []
          },
          "execution_count": 37
        }
      ]
    },
    {
      "cell_type": "code",
      "metadata": {
        "colab": {
          "base_uri": "https://localhost:8080/"
        },
        "id": "Ik5-SGIvqC3v",
        "outputId": "94d8e379-1351-401b-ca87-5039458e318e"
      },
      "source": [
        "mean_test_accuracy_mae * -1"
      ],
      "execution_count": null,
      "outputs": [
        {
          "output_type": "execute_result",
          "data": {
            "text/plain": [
              "450.97578546507935"
            ]
          },
          "metadata": {
            "tags": []
          },
          "execution_count": 38
        }
      ]
    },
    {
      "cell_type": "code",
      "metadata": {
        "id": "ymHMVMeK35NY"
      },
      "source": [
        ""
      ],
      "execution_count": null,
      "outputs": []
    }
  ]
}