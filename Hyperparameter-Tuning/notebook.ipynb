{
  "nbformat": 4,
  "nbformat_minor": 0,
  "metadata": {
    "colab": {
      "name": "Improved-Random-Forest-2.ipynb",
      "provenance": [],
      "collapsed_sections": []
    },
    "kernelspec": {
      "name": "python3",
      "display_name": "Python 3"
    }
  },
  "cells": [
    {
      "cell_type": "code",
      "metadata": {
        "id": "vgdH0ulcOEl9"
      },
      "source": [
        "import numpy as np\n",
        "import pandas as pd\n",
        "import matplotlib.pyplot as plt\n",
        "import seaborn as sns"
      ],
      "execution_count": null,
      "outputs": []
    },
    {
      "cell_type": "code",
      "metadata": {
        "colab": {
          "base_uri": "https://localhost:8080/",
          "height": 224
        },
        "id": "rlDjKp7BOJp1",
        "outputId": "91303d25-d09a-4d1e-d910-ea8bd7652f69"
      },
      "source": [
        "path = 'drive/MyDrive/Research/data_collection/final_cleaned/final_dataset.csv'\n",
        "df = pd.read_csv(path)\n",
        "df.head()"
      ],
      "execution_count": null,
      "outputs": [
        {
          "output_type": "execute_result",
          "data": {
            "text/html": [
              "<div>\n",
              "<style scoped>\n",
              "    .dataframe tbody tr th:only-of-type {\n",
              "        vertical-align: middle;\n",
              "    }\n",
              "\n",
              "    .dataframe tbody tr th {\n",
              "        vertical-align: top;\n",
              "    }\n",
              "\n",
              "    .dataframe thead th {\n",
              "        text-align: right;\n",
              "    }\n",
              "</style>\n",
              "<table border=\"1\" class=\"dataframe\">\n",
              "  <thead>\n",
              "    <tr style=\"text-align: right;\">\n",
              "      <th></th>\n",
              "      <th>fcp</th>\n",
              "      <th>interactive</th>\n",
              "      <th>srt</th>\n",
              "      <th>dom_size</th>\n",
              "      <th>but</th>\n",
              "      <th>fmp</th>\n",
              "      <th>tbt</th>\n",
              "      <th>tbw</th>\n",
              "      <th>fci</th>\n",
              "      <th>cls</th>\n",
              "      <th>lcp</th>\n",
              "      <th>ux_index</th>\n",
              "      <th>fid_category</th>\n",
              "      <th>lcp_category</th>\n",
              "      <th>fcp_category</th>\n",
              "      <th>cls_category</th>\n",
              "    </tr>\n",
              "  </thead>\n",
              "  <tbody>\n",
              "    <tr>\n",
              "      <th>0</th>\n",
              "      <td>810.0</td>\n",
              "      <td>1623.000353</td>\n",
              "      <td>148.574</td>\n",
              "      <td>222</td>\n",
              "      <td>95.844</td>\n",
              "      <td>810.0</td>\n",
              "      <td>1.0</td>\n",
              "      <td>964194</td>\n",
              "      <td>1582.0</td>\n",
              "      <td>0.000000</td>\n",
              "      <td>890.0</td>\n",
              "      <td>810.000000</td>\n",
              "      <td>1</td>\n",
              "      <td>1</td>\n",
              "      <td>2</td>\n",
              "      <td>1</td>\n",
              "    </tr>\n",
              "    <tr>\n",
              "      <th>1</th>\n",
              "      <td>791.0</td>\n",
              "      <td>1938.500000</td>\n",
              "      <td>34.172</td>\n",
              "      <td>1049</td>\n",
              "      <td>574.117</td>\n",
              "      <td>1028.5</td>\n",
              "      <td>134.0</td>\n",
              "      <td>2463660</td>\n",
              "      <td>1604.0</td>\n",
              "      <td>0.000000</td>\n",
              "      <td>1623.0</td>\n",
              "      <td>1313.142001</td>\n",
              "      <td>1</td>\n",
              "      <td>1</td>\n",
              "      <td>2</td>\n",
              "      <td>1</td>\n",
              "    </tr>\n",
              "    <tr>\n",
              "      <th>2</th>\n",
              "      <td>660.0</td>\n",
              "      <td>1141.000000</td>\n",
              "      <td>309.005</td>\n",
              "      <td>1814</td>\n",
              "      <td>217.650</td>\n",
              "      <td>813.0</td>\n",
              "      <td>68.0</td>\n",
              "      <td>571401</td>\n",
              "      <td>1006.0</td>\n",
              "      <td>0.000800</td>\n",
              "      <td>1440.0</td>\n",
              "      <td>999.346206</td>\n",
              "      <td>1</td>\n",
              "      <td>1</td>\n",
              "      <td>2</td>\n",
              "      <td>1</td>\n",
              "    </tr>\n",
              "    <tr>\n",
              "      <th>3</th>\n",
              "      <td>655.0</td>\n",
              "      <td>3584.500000</td>\n",
              "      <td>348.280</td>\n",
              "      <td>1413</td>\n",
              "      <td>1686.482</td>\n",
              "      <td>726.0</td>\n",
              "      <td>484.0</td>\n",
              "      <td>1628682</td>\n",
              "      <td>3204.0</td>\n",
              "      <td>0.028540</td>\n",
              "      <td>820.0</td>\n",
              "      <td>1023.158693</td>\n",
              "      <td>1</td>\n",
              "      <td>2</td>\n",
              "      <td>2</td>\n",
              "      <td>1</td>\n",
              "    </tr>\n",
              "    <tr>\n",
              "      <th>4</th>\n",
              "      <td>770.0</td>\n",
              "      <td>3351.000000</td>\n",
              "      <td>775.957</td>\n",
              "      <td>1156</td>\n",
              "      <td>1554.168</td>\n",
              "      <td>770.0</td>\n",
              "      <td>537.0</td>\n",
              "      <td>1737243</td>\n",
              "      <td>3071.0</td>\n",
              "      <td>0.033484</td>\n",
              "      <td>2881.0</td>\n",
              "      <td>1869.895174</td>\n",
              "      <td>1</td>\n",
              "      <td>2</td>\n",
              "      <td>2</td>\n",
              "      <td>2</td>\n",
              "    </tr>\n",
              "  </tbody>\n",
              "</table>\n",
              "</div>"
            ],
            "text/plain": [
              "     fcp  interactive      srt  ...  lcp_category  fcp_category  cls_category\n",
              "0  810.0  1623.000353  148.574  ...             1             2             1\n",
              "1  791.0  1938.500000   34.172  ...             1             2             1\n",
              "2  660.0  1141.000000  309.005  ...             1             2             1\n",
              "3  655.0  3584.500000  348.280  ...             2             2             1\n",
              "4  770.0  3351.000000  775.957  ...             2             2             2\n",
              "\n",
              "[5 rows x 16 columns]"
            ]
          },
          "metadata": {
            "tags": []
          },
          "execution_count": 2
        }
      ]
    },
    {
      "cell_type": "code",
      "metadata": {
        "id": "aKhVtLSMOO7D"
      },
      "source": [
        "# Computing IQR\n",
        "Q1 = df['ux_index'].quantile(0.25)\n",
        "Q3 = df['ux_index'].quantile(0.75)\n",
        "IQR = Q3 - Q1\n",
        "\n",
        "# Filtering Values between Q1-1.5IQR and Q3+1.5IQR\n",
        "df = df.query('(@Q1 - 1.5 * @IQR) <= ux_index <= (@Q3 + 1.5 * @IQR)')"
      ],
      "execution_count": null,
      "outputs": []
    },
    {
      "cell_type": "code",
      "metadata": {
        "colab": {
          "base_uri": "https://localhost:8080/",
          "height": 204
        },
        "id": "mqF-PqINOQ9G",
        "outputId": "2a88c175-c90b-4bbc-b9fd-1ad9c309fce6"
      },
      "source": [
        "df_ufs = df.drop(columns=['cls', 'dom_size', 'fid_category', 'lcp_category', 'fcp_category', 'cls_category'], axis = 1)\n",
        "df_ufs.head()"
      ],
      "execution_count": null,
      "outputs": [
        {
          "output_type": "execute_result",
          "data": {
            "text/html": [
              "<div>\n",
              "<style scoped>\n",
              "    .dataframe tbody tr th:only-of-type {\n",
              "        vertical-align: middle;\n",
              "    }\n",
              "\n",
              "    .dataframe tbody tr th {\n",
              "        vertical-align: top;\n",
              "    }\n",
              "\n",
              "    .dataframe thead th {\n",
              "        text-align: right;\n",
              "    }\n",
              "</style>\n",
              "<table border=\"1\" class=\"dataframe\">\n",
              "  <thead>\n",
              "    <tr style=\"text-align: right;\">\n",
              "      <th></th>\n",
              "      <th>fcp</th>\n",
              "      <th>interactive</th>\n",
              "      <th>srt</th>\n",
              "      <th>but</th>\n",
              "      <th>fmp</th>\n",
              "      <th>tbt</th>\n",
              "      <th>tbw</th>\n",
              "      <th>fci</th>\n",
              "      <th>lcp</th>\n",
              "      <th>ux_index</th>\n",
              "    </tr>\n",
              "  </thead>\n",
              "  <tbody>\n",
              "    <tr>\n",
              "      <th>0</th>\n",
              "      <td>810.0</td>\n",
              "      <td>1623.000353</td>\n",
              "      <td>148.574</td>\n",
              "      <td>95.844</td>\n",
              "      <td>810.0</td>\n",
              "      <td>1.0</td>\n",
              "      <td>964194</td>\n",
              "      <td>1582.0</td>\n",
              "      <td>890.0</td>\n",
              "      <td>810.000000</td>\n",
              "    </tr>\n",
              "    <tr>\n",
              "      <th>1</th>\n",
              "      <td>791.0</td>\n",
              "      <td>1938.500000</td>\n",
              "      <td>34.172</td>\n",
              "      <td>574.117</td>\n",
              "      <td>1028.5</td>\n",
              "      <td>134.0</td>\n",
              "      <td>2463660</td>\n",
              "      <td>1604.0</td>\n",
              "      <td>1623.0</td>\n",
              "      <td>1313.142001</td>\n",
              "    </tr>\n",
              "    <tr>\n",
              "      <th>2</th>\n",
              "      <td>660.0</td>\n",
              "      <td>1141.000000</td>\n",
              "      <td>309.005</td>\n",
              "      <td>217.650</td>\n",
              "      <td>813.0</td>\n",
              "      <td>68.0</td>\n",
              "      <td>571401</td>\n",
              "      <td>1006.0</td>\n",
              "      <td>1440.0</td>\n",
              "      <td>999.346206</td>\n",
              "    </tr>\n",
              "    <tr>\n",
              "      <th>3</th>\n",
              "      <td>655.0</td>\n",
              "      <td>3584.500000</td>\n",
              "      <td>348.280</td>\n",
              "      <td>1686.482</td>\n",
              "      <td>726.0</td>\n",
              "      <td>484.0</td>\n",
              "      <td>1628682</td>\n",
              "      <td>3204.0</td>\n",
              "      <td>820.0</td>\n",
              "      <td>1023.158693</td>\n",
              "    </tr>\n",
              "    <tr>\n",
              "      <th>4</th>\n",
              "      <td>770.0</td>\n",
              "      <td>3351.000000</td>\n",
              "      <td>775.957</td>\n",
              "      <td>1554.168</td>\n",
              "      <td>770.0</td>\n",
              "      <td>537.0</td>\n",
              "      <td>1737243</td>\n",
              "      <td>3071.0</td>\n",
              "      <td>2881.0</td>\n",
              "      <td>1869.895174</td>\n",
              "    </tr>\n",
              "  </tbody>\n",
              "</table>\n",
              "</div>"
            ],
            "text/plain": [
              "     fcp  interactive      srt       but  ...      tbw     fci     lcp     ux_index\n",
              "0  810.0  1623.000353  148.574    95.844  ...   964194  1582.0   890.0   810.000000\n",
              "1  791.0  1938.500000   34.172   574.117  ...  2463660  1604.0  1623.0  1313.142001\n",
              "2  660.0  1141.000000  309.005   217.650  ...   571401  1006.0  1440.0   999.346206\n",
              "3  655.0  3584.500000  348.280  1686.482  ...  1628682  3204.0   820.0  1023.158693\n",
              "4  770.0  3351.000000  775.957  1554.168  ...  1737243  3071.0  2881.0  1869.895174\n",
              "\n",
              "[5 rows x 10 columns]"
            ]
          },
          "metadata": {
            "tags": []
          },
          "execution_count": 4
        }
      ]
    },
    {
      "cell_type": "markdown",
      "metadata": {
        "id": "_vTZ1GBuOXdB"
      },
      "source": [
        "# UFS"
      ]
    },
    {
      "cell_type": "code",
      "metadata": {
        "id": "v4B3qDu3OUK6"
      },
      "source": [
        "from sklearn.ensemble import RandomForestRegressor\n",
        "# reporductibility\n",
        "SEED = 1\n",
        "# instantiate\n",
        "rf = RandomForestRegressor(random_state = SEED)"
      ],
      "execution_count": null,
      "outputs": []
    },
    {
      "cell_type": "code",
      "metadata": {
        "id": "gzX6u5L8OZbt"
      },
      "source": [
        "from sklearn.model_selection import train_test_split\n",
        "\n",
        "X = df_ufs.drop(columns=['ux_index'], axis = 1)\n",
        "y = df_ufs['ux_index']\n",
        "\n",
        "X_train, X_test, y_train, y_test = train_test_split(X, y, test_size=0.20, random_state=SEED)"
      ],
      "execution_count": null,
      "outputs": []
    },
    {
      "cell_type": "code",
      "metadata": {
        "id": "3qIfvlDVOboA"
      },
      "source": [
        "from sklearn.metrics import mean_squared_error as MSE\n",
        "from sklearn.model_selection import GridSearchCV"
      ],
      "execution_count": null,
      "outputs": []
    },
    {
      "cell_type": "code",
      "metadata": {
        "id": "-9QJdrS6OnC1"
      },
      "source": [
        "params_rf = {\n",
        "    'n_estimators': [160, 180, 300],\n",
        "    'max_depth': range(20, 25, 1),\n",
        "    'min_samples_leaf': range(1, 10, 1),\n",
        "    'max_features': ['auto', 'log2', 'sqrt'],\n",
        "}"
      ],
      "execution_count": null,
      "outputs": []
    },
    {
      "cell_type": "code",
      "metadata": {
        "id": "E99A9uZTPJJ6"
      },
      "source": [
        "grid_rf = GridSearchCV(\n",
        "  estimator = rf,\n",
        "  param_grid = params_rf,\n",
        "  cv = 3,\n",
        "  scoring = 'neg_mean_squared_error',\n",
        "  verbose = 1,\n",
        "  n_jobs = -1\n",
        ")"
      ],
      "execution_count": null,
      "outputs": []
    },
    {
      "cell_type": "code",
      "metadata": {
        "colab": {
          "base_uri": "https://localhost:8080/"
        },
        "id": "dO7DBJb0PuZP",
        "outputId": "b230bc6b-c51c-4990-ec19-2d652fc802a6"
      },
      "source": [
        "grid_rf.fit(X_train, y_train)"
      ],
      "execution_count": null,
      "outputs": [
        {
          "output_type": "stream",
          "text": [
            "Fitting 3 folds for each of 405 candidates, totalling 1215 fits\n"
          ],
          "name": "stdout"
        },
        {
          "output_type": "stream",
          "text": [
            "[Parallel(n_jobs=-1)]: Using backend LokyBackend with 2 concurrent workers.\n",
            "/usr/local/lib/python3.6/dist-packages/joblib/externals/loky/process_executor.py:691: UserWarning: A worker stopped while some jobs were given to the executor. This can be caused by a too short worker timeout or by a memory leak.\n",
            "  \"timeout or by a memory leak.\", UserWarning\n",
            "[Parallel(n_jobs=-1)]: Done  46 tasks      | elapsed: 40.4min\n",
            "[Parallel(n_jobs=-1)]: Done 196 tasks      | elapsed: 105.7min\n",
            "[Parallel(n_jobs=-1)]: Done 446 tasks      | elapsed: 225.2min\n",
            "[Parallel(n_jobs=-1)]: Done 796 tasks      | elapsed: 413.0min\n",
            "[Parallel(n_jobs=-1)]: Done 1215 out of 1215 | elapsed: 596.2min finished\n"
          ],
          "name": "stderr"
        },
        {
          "output_type": "execute_result",
          "data": {
            "text/plain": [
              "GridSearchCV(cv=3, error_score=nan,\n",
              "             estimator=RandomForestRegressor(bootstrap=True, ccp_alpha=0.0,\n",
              "                                             criterion='mse', max_depth=None,\n",
              "                                             max_features='auto',\n",
              "                                             max_leaf_nodes=None,\n",
              "                                             max_samples=None,\n",
              "                                             min_impurity_decrease=0.0,\n",
              "                                             min_impurity_split=None,\n",
              "                                             min_samples_leaf=1,\n",
              "                                             min_samples_split=2,\n",
              "                                             min_weight_fraction_leaf=0.0,\n",
              "                                             n_estimators=100, n_jobs=None,\n",
              "                                             oob_score=False, random_state=1,\n",
              "                                             verbose=0, warm_start=False),\n",
              "             iid='deprecated', n_jobs=-1,\n",
              "             param_grid={'max_depth': range(20, 25),\n",
              "                         'max_features': ['auto', 'log2', 'sqrt'],\n",
              "                         'min_samples_leaf': range(1, 10),\n",
              "                         'n_estimators': [160, 180, 300]},\n",
              "             pre_dispatch='2*n_jobs', refit=True, return_train_score=False,\n",
              "             scoring='neg_mean_squared_error', verbose=1)"
            ]
          },
          "metadata": {
            "tags": []
          },
          "execution_count": 10
        }
      ]
    },
    {
      "cell_type": "code",
      "metadata": {
        "id": "x9uoRKrDPw6d",
        "colab": {
          "base_uri": "https://localhost:8080/"
        },
        "outputId": "e3402a83-be13-40bd-e034-5985fc5e807f"
      },
      "source": [
        "print('hi')"
      ],
      "execution_count": null,
      "outputs": [
        {
          "output_type": "stream",
          "text": [
            "hi\n"
          ],
          "name": "stdout"
        }
      ]
    },
    {
      "cell_type": "code",
      "metadata": {
        "colab": {
          "base_uri": "https://localhost:8080/"
        },
        "id": "XeK-poleNjbw",
        "outputId": "da546ae0-053b-4f2e-d0ef-48de8c3fe69b"
      },
      "source": [
        "grid_rf.best_params_"
      ],
      "execution_count": null,
      "outputs": [
        {
          "output_type": "execute_result",
          "data": {
            "text/plain": [
              "{'max_depth': 23,\n",
              " 'max_features': 'log2',\n",
              " 'min_samples_leaf': 1,\n",
              " 'n_estimators': 300}"
            ]
          },
          "metadata": {
            "tags": []
          },
          "execution_count": 12
        }
      ]
    },
    {
      "cell_type": "code",
      "metadata": {
        "id": "zDra_pzLN0zS"
      },
      "source": [
        "best_model = grid_rf.best_estimator_\n",
        "\n",
        "y_pred = best_model.predict(X_test)"
      ],
      "execution_count": null,
      "outputs": []
    },
    {
      "cell_type": "code",
      "metadata": {
        "id": "9qTU8tteN8O8"
      },
      "source": [
        ""
      ],
      "execution_count": null,
      "outputs": []
    }
  ]
}